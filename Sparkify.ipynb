{
 "cells": [
  {
   "cell_type": "markdown",
   "metadata": {},
   "source": [
    "# Sparkify Project Workspace\n"
   ]
  },
  {
   "cell_type": "code",
   "execution_count": 1,
   "metadata": {},
   "outputs": [
    {
     "name": "stdout",
     "output_type": "stream",
     "text": [
      "Populating the interactive namespace from numpy and matplotlib\n"
     ]
    }
   ],
   "source": [
    "# import libraries\n",
    "from pyspark.sql import SparkSession\n",
    "from pyspark.sql.functions import udf, col\n",
    "from pyspark.sql.types import IntegerType, DoubleType\n",
    "from pyspark.sql import Window\n",
    "from pyspark.sql.functions import max as smax\n",
    "from pyspark.sql.functions import countDistinct, regexp_extract, when, count, avg\n",
    "from pyspark.ml.classification import LogisticRegression, RandomForestClassifier, GBTClassifier\n",
    "from pyspark.ml.tuning import CrossValidator, ParamGridBuilder\n",
    "from pyspark.ml.feature import VectorAssembler, StringIndexer, StandardScaler\n",
    "from pyspark.ml.evaluation import BinaryClassificationEvaluator\n",
    "from pyspark.mllib.evaluation import BinaryClassificationMetrics\n",
    "from pyspark.sql.types import FloatType\n",
    "\n",
    "import datetime\n",
    "import numpy as np\n",
    "import pandas as pd\n",
    "import seaborn as sns\n",
    "%matplotlib inline\n",
    "%pylab inline\n",
    "import matplotlib.pyplot as plt"
   ]
  },
  {
   "cell_type": "code",
   "execution_count": 2,
   "metadata": {},
   "outputs": [],
   "source": [
    "# create a Spark session\n",
    "spark = SparkSession \\\n",
    "    .builder \\\n",
    "    .appName(\"Sparkify\") \\\n",
    "    .getOrCreate()"
   ]
  },
  {
   "cell_type": "markdown",
   "metadata": {},
   "source": [
    "# Load and Clean Dataset\n",
    "In this workspace, the mini-dataset file is `mini_sparkify_event_data.json`. Load and clean the dataset, checking for invalid or missing data - for example, records without userids or sessionids. "
   ]
  },
  {
   "cell_type": "code",
   "execution_count": 3,
   "metadata": {},
   "outputs": [],
   "source": [
    "path = \"mini_sparkify_event_data.json\"\n",
    "sparkify_data = spark.read.json(path)"
   ]
  },
  {
   "cell_type": "markdown",
   "metadata": {},
   "source": [
    "# Exploratory Data Analysis\n",
    "\n",
    "\n",
    "### Define Churn\n",
    "\n",
    "### Explore Data"
   ]
  },
  {
   "cell_type": "markdown",
   "metadata": {},
   "source": [
    "I am going to start with some general analysis of the dataset. We need to understand the structure of data we are working with. First of all, let me check the schema of the data and the row example."
   ]
  },
  {
   "cell_type": "code",
   "execution_count": 4,
   "metadata": {},
   "outputs": [
    {
     "name": "stdout",
     "output_type": "stream",
     "text": [
      "root\n",
      " |-- artist: string (nullable = true)\n",
      " |-- auth: string (nullable = true)\n",
      " |-- firstName: string (nullable = true)\n",
      " |-- gender: string (nullable = true)\n",
      " |-- itemInSession: long (nullable = true)\n",
      " |-- lastName: string (nullable = true)\n",
      " |-- length: double (nullable = true)\n",
      " |-- level: string (nullable = true)\n",
      " |-- location: string (nullable = true)\n",
      " |-- method: string (nullable = true)\n",
      " |-- page: string (nullable = true)\n",
      " |-- registration: long (nullable = true)\n",
      " |-- sessionId: long (nullable = true)\n",
      " |-- song: string (nullable = true)\n",
      " |-- status: long (nullable = true)\n",
      " |-- ts: long (nullable = true)\n",
      " |-- userAgent: string (nullable = true)\n",
      " |-- userId: string (nullable = true)\n",
      "\n"
     ]
    }
   ],
   "source": [
    "sparkify_data.printSchema()"
   ]
  },
  {
   "cell_type": "code",
   "execution_count": 5,
   "metadata": {},
   "outputs": [
    {
     "data": {
      "text/plain": [
       "[Row(artist='Martha Tilston', auth='Logged In', firstName='Colin', gender='M', itemInSession=50, lastName='Freeman', length=277.89016, level='paid', location='Bakersfield, CA', method='PUT', page='NextSong', registration=1538173362000, sessionId=29, song='Rockpools', status=200, ts=1538352117000, userAgent='Mozilla/5.0 (Windows NT 6.1; WOW64; rv:31.0) Gecko/20100101 Firefox/31.0', userId='30')]"
      ]
     },
     "execution_count": 5,
     "metadata": {},
     "output_type": "execute_result"
    }
   ],
   "source": [
    "sparkify_data.take(1)"
   ]
  },
  {
   "cell_type": "markdown",
   "metadata": {},
   "source": [
    "How many rows do we have in total?"
   ]
  },
  {
   "cell_type": "code",
   "execution_count": 6,
   "metadata": {},
   "outputs": [
    {
     "name": "stdout",
     "output_type": "stream",
     "text": [
      "Dataset contains 286500 rows\n"
     ]
    }
   ],
   "source": [
    "print(\"Dataset contains {0} rows\".format(sparkify_data.count()))"
   ]
  },
  {
   "cell_type": "markdown",
   "metadata": {},
   "source": [
    "So we have a dataset consisting of 286500 rows and 18 columns. Let's dig deeper in available features."
   ]
  },
  {
   "cell_type": "markdown",
   "metadata": {},
   "source": [
    "It's quite obvious that there are several text features which can not be used as categorical due to huge amount of different possible values. Text features are: \"artist\", \"firstName\", \"lastName\", \"location\", \"song\". Assuming those are just names, we can suppose they don't have much value for model building."
   ]
  },
  {
   "cell_type": "code",
   "execution_count": 7,
   "metadata": {},
   "outputs": [
    {
     "data": {
      "text/plain": [
       "286500"
      ]
     },
     "execution_count": 7,
     "metadata": {},
     "output_type": "execute_result"
    }
   ],
   "source": [
    "sd_valid = sparkify_data.dropna(how = \"any\", subset = [\"userId\", \"sessionId\"])\n",
    "sd_valid.count()"
   ]
  },
  {
   "cell_type": "code",
   "execution_count": 8,
   "metadata": {},
   "outputs": [
    {
     "data": {
      "text/plain": [
       "278154"
      ]
     },
     "execution_count": 8,
     "metadata": {},
     "output_type": "execute_result"
    }
   ],
   "source": [
    "sd_valid = sparkify_data.filter(sparkify_data[\"userId\"] != \"\")\n",
    "sd_valid.count()"
   ]
  },
  {
   "cell_type": "markdown",
   "metadata": {},
   "source": [
    "Nice to see there are nu null missed values for \"userId\" and \"sessionId\". But there are a lot of values having empry string instead of userId. No point keeping those."
   ]
  },
  {
   "cell_type": "code",
   "execution_count": 9,
   "metadata": {},
   "outputs": [],
   "source": [
    "sparkify_data = sparkify_data.filter(sparkify_data.userId != '')"
   ]
  },
  {
   "cell_type": "code",
   "execution_count": 10,
   "metadata": {},
   "outputs": [
    {
     "data": {
      "text/plain": [
       "225"
      ]
     },
     "execution_count": 10,
     "metadata": {},
     "output_type": "execute_result"
    }
   ],
   "source": [
    "sparkify_data.select(\"userId\").dropDuplicates().count()"
   ]
  },
  {
   "cell_type": "markdown",
   "metadata": {},
   "source": [
    "What about categorical variables? looks like we've got quite a few."
   ]
  },
  {
   "cell_type": "code",
   "execution_count": 11,
   "metadata": {},
   "outputs": [
    {
     "name": "stdout",
     "output_type": "stream",
     "text": [
      "+---------+\n",
      "|     auth|\n",
      "+---------+\n",
      "|Cancelled|\n",
      "|Logged In|\n",
      "+---------+\n",
      "\n"
     ]
    }
   ],
   "source": [
    "sparkify_data.select(\"auth\").dropDuplicates().sort(\"auth\").show()"
   ]
  },
  {
   "cell_type": "code",
   "execution_count": 12,
   "metadata": {},
   "outputs": [
    {
     "data": {
      "text/plain": [
       "[Row(artist=None, auth='Cancelled', firstName='Adriel', gender='M', itemInSession=104, lastName='Mendoza', length=None, level='paid', location='Kansas City, MO-KS', method='GET', page='Cancellation Confirmation', registration=1535623466000, sessionId=514, song=None, status=200, ts=1538943990000, userAgent='\"Mozilla/5.0 (Macintosh; Intel Mac OS X 10_9_4) AppleWebKit/537.77.4 (KHTML, like Gecko) Version/7.0.5 Safari/537.77.4\"', userId='18'),\n",
       " Row(artist=None, auth='Cancelled', firstName='Diego', gender='M', itemInSession=56, lastName='Mckee', length=None, level='paid', location='Phoenix-Mesa-Scottsdale, AZ', method='GET', page='Cancellation Confirmation', registration=1537167593000, sessionId=540, song=None, status=200, ts=1539033046000, userAgent='\"Mozilla/5.0 (iPhone; CPU iPhone OS 7_1_2 like Mac OS X) AppleWebKit/537.51.2 (KHTML, like Gecko) Version/7.0 Mobile/11D257 Safari/9537.53\"', userId='32'),\n",
       " Row(artist=None, auth='Cancelled', firstName='Mason', gender='M', itemInSession=10, lastName='Hart', length=None, level='free', location='Corpus Christi, TX', method='GET', page='Cancellation Confirmation', registration=1533157139000, sessionId=174, song=None, status=200, ts=1539318918000, userAgent='\"Mozilla/5.0 (Macintosh; Intel Mac OS X 10_9_4) AppleWebKit/537.36 (KHTML, like Gecko) Chrome/36.0.1985.125 Safari/537.36\"', userId='125')]"
      ]
     },
     "execution_count": 12,
     "metadata": {},
     "output_type": "execute_result"
    }
   ],
   "source": [
    "sparkify_data.filter(sparkify_data.auth == 'Cancelled').take(3)"
   ]
  },
  {
   "cell_type": "markdown",
   "metadata": {},
   "source": [
    "Cancel value seem to only appear at Cancellation Confirmation page, so no extra information here. I will not use this variable further."
   ]
  },
  {
   "cell_type": "code",
   "execution_count": 13,
   "metadata": {},
   "outputs": [
    {
     "data": {
      "text/plain": [
       "[Row(page='About'),\n",
       " Row(page='Add Friend'),\n",
       " Row(page='Add to Playlist'),\n",
       " Row(page='Cancel'),\n",
       " Row(page='Cancellation Confirmation'),\n",
       " Row(page='Downgrade'),\n",
       " Row(page='Error'),\n",
       " Row(page='Help'),\n",
       " Row(page='Home'),\n",
       " Row(page='Logout'),\n",
       " Row(page='NextSong'),\n",
       " Row(page='Roll Advert'),\n",
       " Row(page='Save Settings'),\n",
       " Row(page='Settings'),\n",
       " Row(page='Submit Downgrade'),\n",
       " Row(page='Submit Upgrade'),\n",
       " Row(page='Thumbs Down'),\n",
       " Row(page='Thumbs Up'),\n",
       " Row(page='Upgrade')]"
      ]
     },
     "execution_count": 13,
     "metadata": {},
     "output_type": "execute_result"
    }
   ],
   "source": [
    "sparkify_data.select(\"page\").dropDuplicates().sort(\"page\").collect()"
   ]
  },
  {
   "cell_type": "markdown",
   "metadata": {},
   "source": [
    "Information about pages visited by user is definitely going to be one of the most important sources for frature engineering."
   ]
  },
  {
   "cell_type": "code",
   "execution_count": 14,
   "metadata": {},
   "outputs": [
    {
     "name": "stdout",
     "output_type": "stream",
     "text": [
      "+-----+\n",
      "|level|\n",
      "+-----+\n",
      "| free|\n",
      "| paid|\n",
      "+-----+\n",
      "\n"
     ]
    }
   ],
   "source": [
    "sparkify_data.select(\"level\").dropDuplicates().sort(\"level\").show()"
   ]
  },
  {
   "cell_type": "markdown",
   "metadata": {},
   "source": [
    "Free users can only cancel service, while paid ones can either downgrade to free or cancel."
   ]
  },
  {
   "cell_type": "code",
   "execution_count": 15,
   "metadata": {},
   "outputs": [
    {
     "name": "stdout",
     "output_type": "stream",
     "text": [
      "+------+\n",
      "|method|\n",
      "+------+\n",
      "|   GET|\n",
      "|   PUT|\n",
      "+------+\n",
      "\n"
     ]
    }
   ],
   "source": [
    "sparkify_data.select(\"method\").dropDuplicates().sort(\"method\").show()"
   ]
  },
  {
   "cell_type": "markdown",
   "metadata": {},
   "source": [
    "I dont think this one is going to be itneresting for feature engineering."
   ]
  },
  {
   "cell_type": "markdown",
   "metadata": {},
   "source": [
    "What we have left? \"Gender\" is somthing characterizing the user himself, definitely to be used. \"ItemInSession\" can be used to track the whole session, same as \"length\". \"Registration\" does not seem to be too informative. \"UserAgent\" - who knows, maybe we can extract something useful here. "
   ]
  },
  {
   "cell_type": "markdown",
   "metadata": {},
   "source": [
    "Now that we have some general knowledge about the dataset, it's time to turn it into something more valuable for model building. Let me start with defining Churn users. Those would be the ones cancelling the service or downgrading to free tier."
   ]
  },
  {
   "cell_type": "code",
   "execution_count": 16,
   "metadata": {},
   "outputs": [],
   "source": [
    "churn_event = udf(lambda x: 1 if x == 'Cancellation Confirmation' or x == 'Submit Downgrade' else 0, IntegerType())\n",
    "sparkify_data = sparkify_data.withColumn(\"churn\", churn_event(\"page\"))"
   ]
  },
  {
   "cell_type": "code",
   "execution_count": 17,
   "metadata": {},
   "outputs": [],
   "source": [
    "windowval = Window.partitionBy(\"userId\")\n",
    "sparkify_data = sparkify_data.withColumn(\"churn_user\", smax(col(\"churn\")).over(windowval))"
   ]
  },
  {
   "cell_type": "code",
   "execution_count": 18,
   "metadata": {},
   "outputs": [
    {
     "data": {
      "text/plain": [
       "133"
      ]
     },
     "execution_count": 18,
     "metadata": {},
     "output_type": "execute_result"
    }
   ],
   "source": [
    "sparkify_data.filter(sparkify_data.churn_user == 0).select(\"userId\").dropDuplicates().count()"
   ]
  },
  {
   "cell_type": "code",
   "execution_count": 19,
   "metadata": {},
   "outputs": [
    {
     "data": {
      "text/plain": [
       "92"
      ]
     },
     "execution_count": 19,
     "metadata": {},
     "output_type": "execute_result"
    }
   ],
   "source": [
    "sparkify_data.filter(sparkify_data.churn_user == 1).select(\"userId\").dropDuplicates().count()"
   ]
  },
  {
   "cell_type": "markdown",
   "metadata": {},
   "source": [
    "I have first only marked events which are treated as churn, then all the records for churn and non-churn users.\n",
    "\n",
    "Dataset is almost balanced. "
   ]
  },
  {
   "cell_type": "markdown",
   "metadata": {},
   "source": [
    "Now I am going to analyze behavior of users belonging to two different groups and hopefully find something I can further use as features.\n",
    "\n",
    "I see the \"page\" data as the largest possible source for potential features. \n",
    "\n",
    "I am starting with simply counting number of each page attendance for every user in the dataset. In order to make this analysis more descriptive I will create a pandas dataset and build some graphs. Dataframe will consist on some aggregational numbers, so it will be pretty small even for a large dataset, I don't see any issues with storing it in a variable."
   ]
  },
  {
   "cell_type": "code",
   "execution_count": 20,
   "metadata": {},
   "outputs": [],
   "source": [
    "pages = ['Add Friend', 'Add to Playlist', 'Error', 'Help', 'Home', 'NextSong', 'Roll Advert', \\\n",
    "         'Save Settings', 'Settings', 'Submit Upgrade', 'Thumbs Down', 'Thumbs Up']"
   ]
  },
  {
   "cell_type": "code",
   "execution_count": 21,
   "metadata": {},
   "outputs": [],
   "source": [
    "sparkify_df = sparkify_data.filter(col(\"page\").isin(pages)).groupby([\"userId\", \"page\"]) \\\n",
    "    .count().toPandas()"
   ]
  },
  {
   "cell_type": "code",
   "execution_count": 22,
   "metadata": {},
   "outputs": [
    {
     "data": {
      "text/html": [
       "<div>\n",
       "<style scoped>\n",
       "    .dataframe tbody tr th:only-of-type {\n",
       "        vertical-align: middle;\n",
       "    }\n",
       "\n",
       "    .dataframe tbody tr th {\n",
       "        vertical-align: top;\n",
       "    }\n",
       "\n",
       "    .dataframe thead th {\n",
       "        text-align: right;\n",
       "    }\n",
       "</style>\n",
       "<table border=\"1\" class=\"dataframe\">\n",
       "  <thead>\n",
       "    <tr style=\"text-align: right;\">\n",
       "      <th></th>\n",
       "      <th>userId</th>\n",
       "      <th>page</th>\n",
       "      <th>count</th>\n",
       "    </tr>\n",
       "  </thead>\n",
       "  <tbody>\n",
       "    <tr>\n",
       "      <th>0</th>\n",
       "      <td>88</td>\n",
       "      <td>Home</td>\n",
       "      <td>85</td>\n",
       "    </tr>\n",
       "    <tr>\n",
       "      <th>1</th>\n",
       "      <td>88</td>\n",
       "      <td>NextSong</td>\n",
       "      <td>2045</td>\n",
       "    </tr>\n",
       "    <tr>\n",
       "      <th>2</th>\n",
       "      <td>13</td>\n",
       "      <td>Add to Playlist</td>\n",
       "      <td>37</td>\n",
       "    </tr>\n",
       "    <tr>\n",
       "      <th>3</th>\n",
       "      <td>87</td>\n",
       "      <td>Home</td>\n",
       "      <td>56</td>\n",
       "    </tr>\n",
       "    <tr>\n",
       "      <th>4</th>\n",
       "      <td>59</td>\n",
       "      <td>Add Friend</td>\n",
       "      <td>16</td>\n",
       "    </tr>\n",
       "  </tbody>\n",
       "</table>\n",
       "</div>"
      ],
      "text/plain": [
       "  userId             page  count\n",
       "0     88             Home     85\n",
       "1     88         NextSong   2045\n",
       "2     13  Add to Playlist     37\n",
       "3     87             Home     56\n",
       "4     59       Add Friend     16"
      ]
     },
     "execution_count": 22,
     "metadata": {},
     "output_type": "execute_result"
    }
   ],
   "source": [
    "sparkify_df.head()"
   ]
  },
  {
   "cell_type": "markdown",
   "metadata": {},
   "source": [
    "For every user-page pair I've counted the anount of records. I also want to know what group user belongs to."
   ]
  },
  {
   "cell_type": "code",
   "execution_count": 23,
   "metadata": {},
   "outputs": [],
   "source": [
    "user_churn = sparkify_data.select([\"userId\", \"churn_user\"]).dropDuplicates().toPandas()"
   ]
  },
  {
   "cell_type": "markdown",
   "metadata": {},
   "source": [
    "The dataframe is now in \"melt\" view, let me pivot it, merge with \"churn\" column and clean from nulls."
   ]
  },
  {
   "cell_type": "code",
   "execution_count": 24,
   "metadata": {},
   "outputs": [],
   "source": [
    "pages_summary = sparkify_df.pivot(index = \"userId\", columns = \"page\", values = \"count\")"
   ]
  },
  {
   "cell_type": "code",
   "execution_count": 25,
   "metadata": {},
   "outputs": [
    {
     "data": {
      "text/html": [
       "<div>\n",
       "<style scoped>\n",
       "    .dataframe tbody tr th:only-of-type {\n",
       "        vertical-align: middle;\n",
       "    }\n",
       "\n",
       "    .dataframe tbody tr th {\n",
       "        vertical-align: top;\n",
       "    }\n",
       "\n",
       "    .dataframe thead th {\n",
       "        text-align: right;\n",
       "    }\n",
       "</style>\n",
       "<table border=\"1\" class=\"dataframe\">\n",
       "  <thead>\n",
       "    <tr style=\"text-align: right;\">\n",
       "      <th>page</th>\n",
       "      <th>Add Friend</th>\n",
       "      <th>Add to Playlist</th>\n",
       "      <th>Error</th>\n",
       "      <th>Help</th>\n",
       "      <th>Home</th>\n",
       "      <th>NextSong</th>\n",
       "      <th>Roll Advert</th>\n",
       "      <th>Save Settings</th>\n",
       "      <th>Settings</th>\n",
       "      <th>Submit Upgrade</th>\n",
       "      <th>Thumbs Down</th>\n",
       "      <th>Thumbs Up</th>\n",
       "    </tr>\n",
       "    <tr>\n",
       "      <th>userId</th>\n",
       "      <th></th>\n",
       "      <th></th>\n",
       "      <th></th>\n",
       "      <th></th>\n",
       "      <th></th>\n",
       "      <th></th>\n",
       "      <th></th>\n",
       "      <th></th>\n",
       "      <th></th>\n",
       "      <th></th>\n",
       "      <th></th>\n",
       "      <th></th>\n",
       "    </tr>\n",
       "  </thead>\n",
       "  <tbody>\n",
       "    <tr>\n",
       "      <th>10</th>\n",
       "      <td>12.0</td>\n",
       "      <td>9.0</td>\n",
       "      <td>NaN</td>\n",
       "      <td>1.0</td>\n",
       "      <td>30.0</td>\n",
       "      <td>673.0</td>\n",
       "      <td>1.0</td>\n",
       "      <td>1.0</td>\n",
       "      <td>7.0</td>\n",
       "      <td>NaN</td>\n",
       "      <td>4.0</td>\n",
       "      <td>37.0</td>\n",
       "    </tr>\n",
       "    <tr>\n",
       "      <th>100</th>\n",
       "      <td>49.0</td>\n",
       "      <td>61.0</td>\n",
       "      <td>3.0</td>\n",
       "      <td>18.0</td>\n",
       "      <td>105.0</td>\n",
       "      <td>2682.0</td>\n",
       "      <td>25.0</td>\n",
       "      <td>5.0</td>\n",
       "      <td>11.0</td>\n",
       "      <td>1.0</td>\n",
       "      <td>27.0</td>\n",
       "      <td>148.0</td>\n",
       "    </tr>\n",
       "    <tr>\n",
       "      <th>100001</th>\n",
       "      <td>2.0</td>\n",
       "      <td>3.0</td>\n",
       "      <td>1.0</td>\n",
       "      <td>1.0</td>\n",
       "      <td>11.0</td>\n",
       "      <td>133.0</td>\n",
       "      <td>14.0</td>\n",
       "      <td>NaN</td>\n",
       "      <td>1.0</td>\n",
       "      <td>NaN</td>\n",
       "      <td>2.0</td>\n",
       "      <td>8.0</td>\n",
       "    </tr>\n",
       "    <tr>\n",
       "      <th>100002</th>\n",
       "      <td>1.0</td>\n",
       "      <td>5.0</td>\n",
       "      <td>NaN</td>\n",
       "      <td>NaN</td>\n",
       "      <td>6.0</td>\n",
       "      <td>195.0</td>\n",
       "      <td>3.0</td>\n",
       "      <td>NaN</td>\n",
       "      <td>NaN</td>\n",
       "      <td>NaN</td>\n",
       "      <td>NaN</td>\n",
       "      <td>5.0</td>\n",
       "    </tr>\n",
       "    <tr>\n",
       "      <th>100003</th>\n",
       "      <td>NaN</td>\n",
       "      <td>2.0</td>\n",
       "      <td>NaN</td>\n",
       "      <td>1.0</td>\n",
       "      <td>7.0</td>\n",
       "      <td>51.0</td>\n",
       "      <td>9.0</td>\n",
       "      <td>NaN</td>\n",
       "      <td>NaN</td>\n",
       "      <td>NaN</td>\n",
       "      <td>NaN</td>\n",
       "      <td>3.0</td>\n",
       "    </tr>\n",
       "  </tbody>\n",
       "</table>\n",
       "</div>"
      ],
      "text/plain": [
       "page    Add Friend  Add to Playlist  Error  Help   Home  NextSong  \\\n",
       "userId                                                              \n",
       "10            12.0              9.0    NaN   1.0   30.0     673.0   \n",
       "100           49.0             61.0    3.0  18.0  105.0    2682.0   \n",
       "100001         2.0              3.0    1.0   1.0   11.0     133.0   \n",
       "100002         1.0              5.0    NaN   NaN    6.0     195.0   \n",
       "100003         NaN              2.0    NaN   1.0    7.0      51.0   \n",
       "\n",
       "page    Roll Advert  Save Settings  Settings  Submit Upgrade  Thumbs Down  \\\n",
       "userId                                                                      \n",
       "10              1.0            1.0       7.0             NaN          4.0   \n",
       "100            25.0            5.0      11.0             1.0         27.0   \n",
       "100001         14.0            NaN       1.0             NaN          2.0   \n",
       "100002          3.0            NaN       NaN             NaN          NaN   \n",
       "100003          9.0            NaN       NaN             NaN          NaN   \n",
       "\n",
       "page    Thumbs Up  \n",
       "userId             \n",
       "10           37.0  \n",
       "100         148.0  \n",
       "100001        8.0  \n",
       "100002        5.0  \n",
       "100003        3.0  "
      ]
     },
     "execution_count": 25,
     "metadata": {},
     "output_type": "execute_result"
    }
   ],
   "source": [
    "pages_summary.head()"
   ]
  },
  {
   "cell_type": "code",
   "execution_count": 26,
   "metadata": {},
   "outputs": [],
   "source": [
    "pages_summary.fillna(0, inplace=True)"
   ]
  },
  {
   "cell_type": "code",
   "execution_count": 27,
   "metadata": {},
   "outputs": [],
   "source": [
    "pages_summary = pages_summary.merge(user_churn, on='userId')"
   ]
  },
  {
   "cell_type": "code",
   "execution_count": 28,
   "metadata": {},
   "outputs": [
    {
     "data": {
      "text/html": [
       "<div>\n",
       "<style scoped>\n",
       "    .dataframe tbody tr th:only-of-type {\n",
       "        vertical-align: middle;\n",
       "    }\n",
       "\n",
       "    .dataframe tbody tr th {\n",
       "        vertical-align: top;\n",
       "    }\n",
       "\n",
       "    .dataframe thead th {\n",
       "        text-align: right;\n",
       "    }\n",
       "</style>\n",
       "<table border=\"1\" class=\"dataframe\">\n",
       "  <thead>\n",
       "    <tr style=\"text-align: right;\">\n",
       "      <th></th>\n",
       "      <th>userId</th>\n",
       "      <th>Add Friend</th>\n",
       "      <th>Add to Playlist</th>\n",
       "      <th>Error</th>\n",
       "      <th>Help</th>\n",
       "      <th>Home</th>\n",
       "      <th>NextSong</th>\n",
       "      <th>Roll Advert</th>\n",
       "      <th>Save Settings</th>\n",
       "      <th>Settings</th>\n",
       "      <th>Submit Upgrade</th>\n",
       "      <th>Thumbs Down</th>\n",
       "      <th>Thumbs Up</th>\n",
       "      <th>churn_user</th>\n",
       "    </tr>\n",
       "  </thead>\n",
       "  <tbody>\n",
       "    <tr>\n",
       "      <th>0</th>\n",
       "      <td>10</td>\n",
       "      <td>12.0</td>\n",
       "      <td>9.0</td>\n",
       "      <td>0.0</td>\n",
       "      <td>1.0</td>\n",
       "      <td>30.0</td>\n",
       "      <td>673.0</td>\n",
       "      <td>1.0</td>\n",
       "      <td>1.0</td>\n",
       "      <td>7.0</td>\n",
       "      <td>0.0</td>\n",
       "      <td>4.0</td>\n",
       "      <td>37.0</td>\n",
       "      <td>0</td>\n",
       "    </tr>\n",
       "    <tr>\n",
       "      <th>1</th>\n",
       "      <td>100</td>\n",
       "      <td>49.0</td>\n",
       "      <td>61.0</td>\n",
       "      <td>3.0</td>\n",
       "      <td>18.0</td>\n",
       "      <td>105.0</td>\n",
       "      <td>2682.0</td>\n",
       "      <td>25.0</td>\n",
       "      <td>5.0</td>\n",
       "      <td>11.0</td>\n",
       "      <td>1.0</td>\n",
       "      <td>27.0</td>\n",
       "      <td>148.0</td>\n",
       "      <td>1</td>\n",
       "    </tr>\n",
       "    <tr>\n",
       "      <th>2</th>\n",
       "      <td>100001</td>\n",
       "      <td>2.0</td>\n",
       "      <td>3.0</td>\n",
       "      <td>1.0</td>\n",
       "      <td>1.0</td>\n",
       "      <td>11.0</td>\n",
       "      <td>133.0</td>\n",
       "      <td>14.0</td>\n",
       "      <td>0.0</td>\n",
       "      <td>1.0</td>\n",
       "      <td>0.0</td>\n",
       "      <td>2.0</td>\n",
       "      <td>8.0</td>\n",
       "      <td>1</td>\n",
       "    </tr>\n",
       "    <tr>\n",
       "      <th>3</th>\n",
       "      <td>100002</td>\n",
       "      <td>1.0</td>\n",
       "      <td>5.0</td>\n",
       "      <td>0.0</td>\n",
       "      <td>0.0</td>\n",
       "      <td>6.0</td>\n",
       "      <td>195.0</td>\n",
       "      <td>3.0</td>\n",
       "      <td>0.0</td>\n",
       "      <td>0.0</td>\n",
       "      <td>0.0</td>\n",
       "      <td>0.0</td>\n",
       "      <td>5.0</td>\n",
       "      <td>0</td>\n",
       "    </tr>\n",
       "    <tr>\n",
       "      <th>4</th>\n",
       "      <td>100003</td>\n",
       "      <td>0.0</td>\n",
       "      <td>2.0</td>\n",
       "      <td>0.0</td>\n",
       "      <td>1.0</td>\n",
       "      <td>7.0</td>\n",
       "      <td>51.0</td>\n",
       "      <td>9.0</td>\n",
       "      <td>0.0</td>\n",
       "      <td>0.0</td>\n",
       "      <td>0.0</td>\n",
       "      <td>0.0</td>\n",
       "      <td>3.0</td>\n",
       "      <td>1</td>\n",
       "    </tr>\n",
       "  </tbody>\n",
       "</table>\n",
       "</div>"
      ],
      "text/plain": [
       "   userId  Add Friend  Add to Playlist  Error  Help   Home  NextSong  \\\n",
       "0      10        12.0              9.0    0.0   1.0   30.0     673.0   \n",
       "1     100        49.0             61.0    3.0  18.0  105.0    2682.0   \n",
       "2  100001         2.0              3.0    1.0   1.0   11.0     133.0   \n",
       "3  100002         1.0              5.0    0.0   0.0    6.0     195.0   \n",
       "4  100003         0.0              2.0    0.0   1.0    7.0      51.0   \n",
       "\n",
       "   Roll Advert  Save Settings  Settings  Submit Upgrade  Thumbs Down  \\\n",
       "0          1.0            1.0       7.0             0.0          4.0   \n",
       "1         25.0            5.0      11.0             1.0         27.0   \n",
       "2         14.0            0.0       1.0             0.0          2.0   \n",
       "3          3.0            0.0       0.0             0.0          0.0   \n",
       "4          9.0            0.0       0.0             0.0          0.0   \n",
       "\n",
       "   Thumbs Up  churn_user  \n",
       "0       37.0           0  \n",
       "1      148.0           1  \n",
       "2        8.0           1  \n",
       "3        5.0           0  \n",
       "4        3.0           1  "
      ]
     },
     "execution_count": 28,
     "metadata": {},
     "output_type": "execute_result"
    }
   ],
   "source": [
    "pages_summary.head()"
   ]
  },
  {
   "cell_type": "markdown",
   "metadata": {},
   "source": [
    "This looks like and old good dataframe now! Easiest I can do is comparing meand for all possible actions (pages)."
   ]
  },
  {
   "cell_type": "code",
   "execution_count": 29,
   "metadata": {},
   "outputs": [
    {
     "data": {
      "text/html": [
       "<div>\n",
       "<style scoped>\n",
       "    .dataframe tbody tr th:only-of-type {\n",
       "        vertical-align: middle;\n",
       "    }\n",
       "\n",
       "    .dataframe tbody tr th {\n",
       "        vertical-align: top;\n",
       "    }\n",
       "\n",
       "    .dataframe thead th {\n",
       "        text-align: right;\n",
       "    }\n",
       "</style>\n",
       "<table border=\"1\" class=\"dataframe\">\n",
       "  <thead>\n",
       "    <tr style=\"text-align: right;\">\n",
       "      <th></th>\n",
       "      <th>Add Friend</th>\n",
       "      <th>Add to Playlist</th>\n",
       "      <th>Error</th>\n",
       "      <th>Help</th>\n",
       "      <th>Home</th>\n",
       "      <th>NextSong</th>\n",
       "      <th>Roll Advert</th>\n",
       "      <th>Save Settings</th>\n",
       "      <th>Settings</th>\n",
       "      <th>Submit Upgrade</th>\n",
       "      <th>Thumbs Down</th>\n",
       "      <th>Thumbs Up</th>\n",
       "    </tr>\n",
       "    <tr>\n",
       "      <th>churn_user</th>\n",
       "      <th></th>\n",
       "      <th></th>\n",
       "      <th></th>\n",
       "      <th></th>\n",
       "      <th></th>\n",
       "      <th></th>\n",
       "      <th></th>\n",
       "      <th></th>\n",
       "      <th></th>\n",
       "      <th></th>\n",
       "      <th></th>\n",
       "      <th></th>\n",
       "    </tr>\n",
       "  </thead>\n",
       "  <tbody>\n",
       "    <tr>\n",
       "      <th>0</th>\n",
       "      <td>16.255639</td>\n",
       "      <td>24.285714</td>\n",
       "      <td>1.052632</td>\n",
       "      <td>5.383459</td>\n",
       "      <td>37.285714</td>\n",
       "      <td>853.857143</td>\n",
       "      <td>11.857143</td>\n",
       "      <td>1.240602</td>\n",
       "      <td>5.744361</td>\n",
       "      <td>0.488722</td>\n",
       "      <td>8.609023</td>\n",
       "      <td>47.045113</td>\n",
       "    </tr>\n",
       "    <tr>\n",
       "      <th>1</th>\n",
       "      <td>22.989130</td>\n",
       "      <td>35.826087</td>\n",
       "      <td>1.217391</td>\n",
       "      <td>8.021739</td>\n",
       "      <td>55.684783</td>\n",
       "      <td>1245.054348</td>\n",
       "      <td>25.608696</td>\n",
       "      <td>1.576087</td>\n",
       "      <td>8.152174</td>\n",
       "      <td>1.021739</td>\n",
       "      <td>15.228261</td>\n",
       "      <td>68.413043</td>\n",
       "    </tr>\n",
       "  </tbody>\n",
       "</table>\n",
       "</div>"
      ],
      "text/plain": [
       "            Add Friend  Add to Playlist     Error      Help       Home  \\\n",
       "churn_user                                                               \n",
       "0            16.255639        24.285714  1.052632  5.383459  37.285714   \n",
       "1            22.989130        35.826087  1.217391  8.021739  55.684783   \n",
       "\n",
       "               NextSong  Roll Advert  Save Settings  Settings  Submit Upgrade  \\\n",
       "churn_user                                                                      \n",
       "0            853.857143    11.857143       1.240602  5.744361        0.488722   \n",
       "1           1245.054348    25.608696       1.576087  8.152174        1.021739   \n",
       "\n",
       "            Thumbs Down  Thumbs Up  \n",
       "churn_user                          \n",
       "0              8.609023  47.045113  \n",
       "1             15.228261  68.413043  "
      ]
     },
     "execution_count": 29,
     "metadata": {},
     "output_type": "execute_result"
    }
   ],
   "source": [
    "pages_summary.groupby([\"churn_user\"]).mean()"
   ]
  },
  {
   "cell_type": "markdown",
   "metadata": {},
   "source": [
    "Looks like pretty significant difference can be observed in most of them. I also want build a scatter plot matrix using different colors for user groups, it definitely will be huge and non-readable, so I will only select several features."
   ]
  },
  {
   "cell_type": "code",
   "execution_count": 30,
   "metadata": {},
   "outputs": [
    {
     "data": {
      "text/plain": [
       "<seaborn.axisgrid.PairGrid at 0x7fd41072cb00>"
      ]
     },
     "execution_count": 30,
     "metadata": {},
     "output_type": "execute_result"
    },
    {
     "data": {
      "image/png": "[encoded data removed]",
      "text/plain": [
       "<matplotlib.figure.Figure at 0x7fd41072ca20>"
      ]
     },
     "metadata": {
      "needs_background": "light"
     },
     "output_type": "display_data"
    }
   ],
   "source": [
    "sns.pairplot(pages_summary.drop(columns=[\"userId\", \"Error\", \"Help\", \"Home\", \"Settings\", 'Save Settings', 'Submit Upgrade', 'Thumbs Down', 'Thumbs Up']), hue='churn_user', plot_kws={'alpha': 0.3})"
   ]
  },
  {
   "cell_type": "markdown",
   "metadata": {},
   "source": [
    "Closeness to 0 for some actions makes it a bit hard to analyze. Nevertheless, this data is definitely going to be used."
   ]
  },
  {
   "cell_type": "markdown",
   "metadata": {},
   "source": [
    "No doubt \"gender\" column will be included too. This is almost the only (except for name and location) data piece describing the user him(her)self."
   ]
  },
  {
   "cell_type": "code",
   "execution_count": 937,
   "metadata": {},
   "outputs": [
    {
     "name": "stdout",
     "output_type": "stream",
     "text": [
      "+----------+------+-----+\n",
      "|churn_user|gender|count|\n",
      "+----------+------+-----+\n",
      "|         1|     F|   43|\n",
      "|         0|     M|   72|\n",
      "|         1|     M|   49|\n",
      "|         0|     F|   61|\n",
      "+----------+------+-----+\n",
      "\n"
     ]
    }
   ],
   "source": [
    "sparkify_data.select([\"userId\", \"gender\", \"churn_user\"]).dropDuplicates().groupby([\"churn_user\", \"gender\"]).count().show()"
   ]
  },
  {
   "cell_type": "markdown",
   "metadata": {},
   "source": [
    "We've got length for songs played, why not use those? Maybe users who listen more tend to churn less?"
   ]
  },
  {
   "cell_type": "code",
   "execution_count": 938,
   "metadata": {},
   "outputs": [
    {
     "name": "stdout",
     "output_type": "stream",
     "text": [
      "+----------+------------------+\n",
      "|churn_user|  avg(sum(length))|\n",
      "+----------+------------------+\n",
      "|         1| 310145.8052251084|\n",
      "|         0|212723.36891646608|\n",
      "+----------+------------------+\n",
      "\n"
     ]
    }
   ],
   "source": [
    "sparkify_data.select([\"userId\", \"length\", \"churn_user\"]).groupby([\"churn_user\", \"userId\"]).sum(\"length\") \\\n",
    "    .groupby(\"churn_user\").avg(\"sum(length)\").show()"
   ]
  },
  {
   "cell_type": "markdown",
   "metadata": {},
   "source": [
    "Not quite what I was expecting to be honest, on the average \"churn\" users tend to listen more. Still, difference seem to be pretty impressive.\n",
    "\n",
    "Next we can extract is sessionIds. For each user I want to get average and maximum length of the session."
   ]
  },
  {
   "cell_type": "code",
   "execution_count": 939,
   "metadata": {},
   "outputs": [
    {
     "name": "stdout",
     "output_type": "stream",
     "text": [
      "+----------+-----------------+\n",
      "|churn_user|  avg(avg(count))|\n",
      "+----------+-----------------+\n",
      "|         1|82.98641012443774|\n",
      "|         0|86.10151882274668|\n",
      "+----------+-----------------+\n",
      "\n"
     ]
    }
   ],
   "source": [
    "sparkify_data.select([\"userId\", \"sessionId\", \"churn_user\"]).groupby([\"churn_user\", \"userId\", \"sessionId\"]).count() \\\n",
    "    .groupby([\"churn_user\", \"userId\"]).avg(\"count\").groupby(\"churn_user\").avg(\"avg(count)\").show()"
   ]
  },
  {
   "cell_type": "code",
   "execution_count": 940,
   "metadata": {},
   "outputs": [
    {
     "name": "stdout",
     "output_type": "stream",
     "text": [
      "+----------+-----------------+\n",
      "|churn_user|  avg(max(count))|\n",
      "+----------+-----------------+\n",
      "|         1|291.0326086956522|\n",
      "|         0|268.6766917293233|\n",
      "+----------+-----------------+\n",
      "\n"
     ]
    }
   ],
   "source": [
    "sparkify_data.select([\"userId\", \"sessionId\", \"churn_user\"]).groupby([\"churn_user\", \"userId\", \"sessionId\"]).count() \\\n",
    "    .groupby([\"churn_user\", \"userId\"]).max(\"count\").groupby(\"churn_user\").avg(\"max(count)\").show()"
   ]
  },
  {
   "cell_type": "code",
   "execution_count": 941,
   "metadata": {},
   "outputs": [
    {
     "data": {
      "text/html": [
       "<div>\n",
       "<style scoped>\n",
       "    .dataframe tbody tr th:only-of-type {\n",
       "        vertical-align: middle;\n",
       "    }\n",
       "\n",
       "    .dataframe tbody tr th {\n",
       "        vertical-align: top;\n",
       "    }\n",
       "\n",
       "    .dataframe thead th {\n",
       "        text-align: right;\n",
       "    }\n",
       "</style>\n",
       "<table border=\"1\" class=\"dataframe\">\n",
       "  <thead>\n",
       "    <tr style=\"text-align: right;\">\n",
       "      <th></th>\n",
       "      <th>churn_user</th>\n",
       "      <th>userId</th>\n",
       "      <th>max(count)</th>\n",
       "    </tr>\n",
       "  </thead>\n",
       "  <tbody>\n",
       "    <tr>\n",
       "      <th>0</th>\n",
       "      <td>0</td>\n",
       "      <td>100010</td>\n",
       "      <td>112</td>\n",
       "    </tr>\n",
       "    <tr>\n",
       "      <th>1</th>\n",
       "      <td>0</td>\n",
       "      <td>200002</td>\n",
       "      <td>152</td>\n",
       "    </tr>\n",
       "    <tr>\n",
       "      <th>2</th>\n",
       "      <td>1</td>\n",
       "      <td>125</td>\n",
       "      <td>11</td>\n",
       "    </tr>\n",
       "    <tr>\n",
       "      <th>3</th>\n",
       "      <td>0</td>\n",
       "      <td>124</td>\n",
       "      <td>519</td>\n",
       "    </tr>\n",
       "    <tr>\n",
       "      <th>4</th>\n",
       "      <td>1</td>\n",
       "      <td>51</td>\n",
       "      <td>599</td>\n",
       "    </tr>\n",
       "  </tbody>\n",
       "</table>\n",
       "</div>"
      ],
      "text/plain": [
       "   churn_user  userId  max(count)\n",
       "0           0  100010         112\n",
       "1           0  200002         152\n",
       "2           1     125          11\n",
       "3           0     124         519\n",
       "4           1      51         599"
      ]
     },
     "execution_count": 941,
     "metadata": {},
     "output_type": "execute_result"
    }
   ],
   "source": [
    "sessions_max_lengths = sparkify_data.select([\"userId\", \"sessionId\", \"churn_user\"]).groupby([\"churn_user\", \"userId\", \"sessionId\"]).count() \\\n",
    "    .groupby([\"churn_user\", \"userId\"]).max(\"count\").toPandas()\n",
    "sessions_max_lengths.head()"
   ]
  },
  {
   "cell_type": "code",
   "execution_count": 942,
   "metadata": {},
   "outputs": [
    {
     "data": {
      "text/plain": [
       "<matplotlib.axes._subplots.AxesSubplot at 0x7ff8b84cacc0>"
      ]
     },
     "execution_count": 942,
     "metadata": {},
     "output_type": "execute_result"
    },
    {
     "data": {
      "image/png": "[encoded data removed]",
      "text/plain": [
       "<matplotlib.figure.Figure at 0x7ff8b8554978>"
      ]
     },
     "metadata": {
      "needs_background": "light"
     },
     "output_type": "display_data"
    }
   ],
   "source": [
    "sns.kdeplot(sessions_max_lengths['max(count)'][sessions_max_lengths['churn_user'] == 1], \n",
    "            label='churn')\n",
    "sns.kdeplot(sessions_max_lengths['max(count)'][sessions_max_lengths['churn_user'] == 0], \n",
    "            label='non-churn')"
   ]
  },
  {
   "cell_type": "markdown",
   "metadata": {},
   "source": [
    "Distriutions of maximum session length seem to differ. Not too much, but it's quite observable."
   ]
  },
  {
   "cell_type": "markdown",
   "metadata": {},
   "source": [
    "As all the rows in the dataset have timestamp, we can generate time-based statistics. Data we have only covers 2 month, so I will stick to days. First, we need to mark each row with month and day."
   ]
  },
  {
   "cell_type": "code",
   "execution_count": 943,
   "metadata": {},
   "outputs": [],
   "source": [
    "get_month = udf(lambda x: datetime.datetime.fromtimestamp(x / 1000.0). month)\n",
    "get_day = udf(lambda x: datetime.datetime.fromtimestamp(x / 1000.0). day)"
   ]
  },
  {
   "cell_type": "code",
   "execution_count": 944,
   "metadata": {},
   "outputs": [],
   "source": [
    "sparkify_data = sparkify_data.withColumn(\"month\", get_month(sparkify_data.ts))\n",
    "sparkify_data = sparkify_data.withColumn(\"day\", get_day(sparkify_data.ts))"
   ]
  },
  {
   "cell_type": "code",
   "execution_count": 945,
   "metadata": {},
   "outputs": [
    {
     "data": {
      "text/plain": [
       "Row(artist='Sleeping With Sirens', auth='Logged In', firstName='Darianna', gender='F', itemInSession=0, lastName='Carpenter', length=202.97098, level='free', location='Bridgeport-Stamford-Norwalk, CT', method='PUT', page='NextSong', registration=1538016340000, sessionId=31, song='Captain Tyin Knots VS Mr Walkway (No Way)', status=200, ts=1539003534000, userAgent='\"Mozilla/5.0 (iPhone; CPU iPhone OS 7_1_2 like Mac OS X) AppleWebKit/537.51.2 (KHTML, like Gecko) Version/7.0 Mobile/11D257 Safari/9537.53\"', userId='100010', churn=0, churn_user=0, month='10', day='8')"
      ]
     },
     "execution_count": 945,
     "metadata": {},
     "output_type": "execute_result"
    }
   ],
   "source": [
    "sparkify_data.head()"
   ]
  },
  {
   "cell_type": "markdown",
   "metadata": {},
   "source": [
    "Next, I will gather aggregated statistics based on date. How much actions does user perform daily? "
   ]
  },
  {
   "cell_type": "code",
   "execution_count": 946,
   "metadata": {},
   "outputs": [
    {
     "name": "stdout",
     "output_type": "stream",
     "text": [
      "+----------+-----------------+\n",
      "|churn_user|  avg(avg(count))|\n",
      "+----------+-----------------+\n",
      "|         1| 82.8226520787324|\n",
      "|         0|74.54174950660935|\n",
      "+----------+-----------------+\n",
      "\n"
     ]
    }
   ],
   "source": [
    "sparkify_data.select([\"userId\", \"month\", \"day\", \"churn_user\"]).groupby([\"churn_user\", \"userId\", \"month\", \"day\"]) \\\n",
    "    .count().groupby([\"churn_user\", \"userId\"]).avg(\"count\").groupby(\"churn_user\").avg(\"avg(count)\").show()"
   ]
  },
  {
   "cell_type": "code",
   "execution_count": 947,
   "metadata": {},
   "outputs": [
    {
     "data": {
      "text/html": [
       "<div>\n",
       "<style scoped>\n",
       "    .dataframe tbody tr th:only-of-type {\n",
       "        vertical-align: middle;\n",
       "    }\n",
       "\n",
       "    .dataframe tbody tr th {\n",
       "        vertical-align: top;\n",
       "    }\n",
       "\n",
       "    .dataframe thead th {\n",
       "        text-align: right;\n",
       "    }\n",
       "</style>\n",
       "<table border=\"1\" class=\"dataframe\">\n",
       "  <thead>\n",
       "    <tr style=\"text-align: right;\">\n",
       "      <th></th>\n",
       "      <th>churn_user</th>\n",
       "      <th>userId</th>\n",
       "      <th>avg(count)</th>\n",
       "    </tr>\n",
       "  </thead>\n",
       "  <tbody>\n",
       "    <tr>\n",
       "      <th>0</th>\n",
       "      <td>0</td>\n",
       "      <td>114</td>\n",
       "      <td>85.944444</td>\n",
       "    </tr>\n",
       "    <tr>\n",
       "      <th>1</th>\n",
       "      <td>1</td>\n",
       "      <td>12</td>\n",
       "      <td>106.400000</td>\n",
       "    </tr>\n",
       "    <tr>\n",
       "      <th>2</th>\n",
       "      <td>1</td>\n",
       "      <td>103</td>\n",
       "      <td>119.090909</td>\n",
       "    </tr>\n",
       "    <tr>\n",
       "      <th>3</th>\n",
       "      <td>0</td>\n",
       "      <td>200012</td>\n",
       "      <td>42.000000</td>\n",
       "    </tr>\n",
       "    <tr>\n",
       "      <th>4</th>\n",
       "      <td>0</td>\n",
       "      <td>82</td>\n",
       "      <td>102.450000</td>\n",
       "    </tr>\n",
       "  </tbody>\n",
       "</table>\n",
       "</div>"
      ],
      "text/plain": [
       "   churn_user  userId  avg(count)\n",
       "0           0     114   85.944444\n",
       "1           1      12  106.400000\n",
       "2           1     103  119.090909\n",
       "3           0  200012   42.000000\n",
       "4           0      82  102.450000"
      ]
     },
     "execution_count": 947,
     "metadata": {},
     "output_type": "execute_result"
    }
   ],
   "source": [
    "avg_actions_per_day = sparkify_data.select([\"userId\", \"month\", \"day\", \"churn_user\"]) \\\n",
    "    .groupby([\"churn_user\", \"userId\", \"month\", \"day\"]) \\\n",
    "    .count().groupby([\"churn_user\", \"userId\"]).avg(\"count\").toPandas()\n",
    "avg_actions_per_day.head()"
   ]
  },
  {
   "cell_type": "code",
   "execution_count": 948,
   "metadata": {},
   "outputs": [
    {
     "data": {
      "text/plain": [
       "<matplotlib.axes._subplots.AxesSubplot at 0x7ff8b8f25d30>"
      ]
     },
     "execution_count": 948,
     "metadata": {},
     "output_type": "execute_result"
    },
    {
     "data": {
      "image/png": "[encoded data removed]",
      "text/plain": [
       "<matplotlib.figure.Figure at 0x7ff8b6cb8f60>"
      ]
     },
     "metadata": {
      "needs_background": "light"
     },
     "output_type": "display_data"
    }
   ],
   "source": [
    "sns.kdeplot(avg_actions_per_day['avg(count)'][avg_actions_per_day['churn_user'] == 1], \n",
    "            label='churn')\n",
    "sns.kdeplot(avg_actions_per_day['avg(count)'][avg_actions_per_day['churn_user'] == 0], \n",
    "            label='non-churn')"
   ]
  },
  {
   "cell_type": "markdown",
   "metadata": {},
   "source": [
    "Again, weirdly, \"churn\" suers tend to be more active. What about concrete actions like listeting to a song or adding a friend?"
   ]
  },
  {
   "cell_type": "code",
   "execution_count": 949,
   "metadata": {},
   "outputs": [
    {
     "name": "stdout",
     "output_type": "stream",
     "text": [
      "+----------+------------------+\n",
      "|churn_user|   avg(avg(count))|\n",
      "+----------+------------------+\n",
      "|         1| 68.26173643764719|\n",
      "|         0|61.766273417375395|\n",
      "+----------+------------------+\n",
      "\n"
     ]
    }
   ],
   "source": [
    "sparkify_data.filter(sparkify_data.page == 'NextSong').select([\"userId\", \"month\", \"day\", \"churn_user\"]) \\\n",
    "    .groupby([\"churn_user\", \"userId\", \"month\", \"day\"]) \\\n",
    "    .count().groupby([\"churn_user\", \"userId\"]).avg(\"count\").groupby(\"churn_user\").avg(\"avg(count)\").show()"
   ]
  },
  {
   "cell_type": "code",
   "execution_count": 950,
   "metadata": {},
   "outputs": [
    {
     "data": {
      "text/html": [
       "<div>\n",
       "<style scoped>\n",
       "    .dataframe tbody tr th:only-of-type {\n",
       "        vertical-align: middle;\n",
       "    }\n",
       "\n",
       "    .dataframe tbody tr th {\n",
       "        vertical-align: top;\n",
       "    }\n",
       "\n",
       "    .dataframe thead th {\n",
       "        text-align: right;\n",
       "    }\n",
       "</style>\n",
       "<table border=\"1\" class=\"dataframe\">\n",
       "  <thead>\n",
       "    <tr style=\"text-align: right;\">\n",
       "      <th></th>\n",
       "      <th>churn_user</th>\n",
       "      <th>userId</th>\n",
       "      <th>avg(count)</th>\n",
       "    </tr>\n",
       "  </thead>\n",
       "  <tbody>\n",
       "    <tr>\n",
       "      <th>0</th>\n",
       "      <td>0</td>\n",
       "      <td>114</td>\n",
       "      <td>76.000000</td>\n",
       "    </tr>\n",
       "    <tr>\n",
       "      <th>1</th>\n",
       "      <td>1</td>\n",
       "      <td>12</td>\n",
       "      <td>86.700000</td>\n",
       "    </tr>\n",
       "    <tr>\n",
       "      <th>2</th>\n",
       "      <td>1</td>\n",
       "      <td>103</td>\n",
       "      <td>107.300000</td>\n",
       "    </tr>\n",
       "    <tr>\n",
       "      <th>3</th>\n",
       "      <td>0</td>\n",
       "      <td>200012</td>\n",
       "      <td>33.000000</td>\n",
       "    </tr>\n",
       "    <tr>\n",
       "      <th>4</th>\n",
       "      <td>0</td>\n",
       "      <td>82</td>\n",
       "      <td>94.722222</td>\n",
       "    </tr>\n",
       "  </tbody>\n",
       "</table>\n",
       "</div>"
      ],
      "text/plain": [
       "   churn_user  userId  avg(count)\n",
       "0           0     114   76.000000\n",
       "1           1      12   86.700000\n",
       "2           1     103  107.300000\n",
       "3           0  200012   33.000000\n",
       "4           0      82   94.722222"
      ]
     },
     "execution_count": 950,
     "metadata": {},
     "output_type": "execute_result"
    }
   ],
   "source": [
    "avg_playsong_per_day = sparkify_data.filter(sparkify_data.page == 'NextSong'). \\\n",
    "    select([\"userId\", \"month\", \"day\", \"churn_user\"]) \\\n",
    "    .groupby([\"churn_user\", \"userId\", \"month\", \"day\"]) \\\n",
    "    .count().groupby([\"churn_user\", \"userId\"]).avg(\"count\").toPandas()\n",
    "avg_playsong_per_day.head()"
   ]
  },
  {
   "cell_type": "code",
   "execution_count": 951,
   "metadata": {},
   "outputs": [
    {
     "data": {
      "text/plain": [
       "<matplotlib.axes._subplots.AxesSubplot at 0x7ff8b55cd390>"
      ]
     },
     "execution_count": 951,
     "metadata": {},
     "output_type": "execute_result"
    },
    {
     "data": {
      "image/png": "[encoded data removed]",
      "text/plain": [
       "<matplotlib.figure.Figure at 0x7ff8b6d775f8>"
      ]
     },
     "metadata": {
      "needs_background": "light"
     },
     "output_type": "display_data"
    }
   ],
   "source": [
    "sns.kdeplot(avg_playsong_per_day['avg(count)'][avg_playsong_per_day['churn_user'] == 1], \n",
    "            label='churn')\n",
    "sns.kdeplot(avg_playsong_per_day['avg(count)'][avg_playsong_per_day['churn_user'] == 0], \n",
    "            label='non-churn')"
   ]
  },
  {
   "cell_type": "code",
   "execution_count": 952,
   "metadata": {},
   "outputs": [
    {
     "name": "stdout",
     "output_type": "stream",
     "text": [
      "+----------+------------------+\n",
      "|churn_user|   avg(avg(count))|\n",
      "+----------+------------------+\n",
      "|         1| 2.636175399280173|\n",
      "|         0|2.7418091469324066|\n",
      "+----------+------------------+\n",
      "\n"
     ]
    }
   ],
   "source": [
    "sparkify_data.filter(sparkify_data.page == 'Add Friend').select([\"userId\", \"month\", \"day\", \"churn_user\"]) \\\n",
    "    .groupby([\"churn_user\", \"userId\", \"month\", \"day\"]) \\\n",
    "    .count().groupby([\"churn_user\", \"userId\"]).avg(\"count\").groupby(\"churn_user\").avg(\"avg(count)\").show()"
   ]
  },
  {
   "cell_type": "code",
   "execution_count": 953,
   "metadata": {},
   "outputs": [
    {
     "name": "stdout",
     "output_type": "stream",
     "text": [
      "+----------+------------------+\n",
      "|churn_user|   avg(avg(count))|\n",
      "+----------+------------------+\n",
      "|         1|2.9256237521496447|\n",
      "|         0|2.6979759726527557|\n",
      "+----------+------------------+\n",
      "\n"
     ]
    }
   ],
   "source": [
    "sparkify_data.filter(sparkify_data.page == 'Add to Playlist').select([\"userId\", \"month\", \"day\", \"churn_user\"]) \\\n",
    "    .groupby([\"churn_user\", \"userId\", \"month\", \"day\"]) \\\n",
    "    .count().groupby([\"churn_user\", \"userId\"]).avg(\"count\").groupby(\"churn_user\").avg(\"avg(count)\").show()"
   ]
  },
  {
   "cell_type": "code",
   "execution_count": 954,
   "metadata": {},
   "outputs": [
    {
     "name": "stdout",
     "output_type": "stream",
     "text": [
      "+----------+-----------------+\n",
      "|churn_user|  avg(avg(count))|\n",
      "+----------+-----------------+\n",
      "|         1|4.506563960862261|\n",
      "|         0|4.252070779972376|\n",
      "+----------+-----------------+\n",
      "\n"
     ]
    }
   ],
   "source": [
    "sparkify_data.filter(sparkify_data.page == 'Thumbs Up').select([\"userId\", \"month\", \"day\", \"churn_user\"]) \\\n",
    "    .groupby([\"churn_user\", \"userId\", \"month\", \"day\"]) \\\n",
    "    .count().groupby([\"churn_user\", \"userId\"]).avg(\"count\").groupby(\"churn_user\").avg(\"avg(count)\").show()"
   ]
  },
  {
   "cell_type": "code",
   "execution_count": 955,
   "metadata": {
    "scrolled": true
   },
   "outputs": [
    {
     "name": "stdout",
     "output_type": "stream",
     "text": [
      "+----------+------------------+\n",
      "|churn_user|   avg(avg(count))|\n",
      "+----------+------------------+\n",
      "|         1|1.0933333333333335|\n",
      "|         0|1.0950248756218908|\n",
      "+----------+------------------+\n",
      "\n"
     ]
    }
   ],
   "source": [
    "sparkify_data.filter(sparkify_data.page == 'Error').select([\"userId\", \"month\", \"day\", \"churn_user\"]) \\\n",
    "    .groupby([\"churn_user\", \"userId\", \"month\", \"day\"]) \\\n",
    "    .count().groupby([\"churn_user\", \"userId\"]).avg(\"count\").groupby(\"churn_user\").avg(\"avg(count)\").show()"
   ]
  },
  {
   "cell_type": "markdown",
   "metadata": {},
   "source": [
    "For me differences for all the pages, except 'Next song', and maybe 'Add to playlist' do not look meaningful.\n",
    "\n",
    "Next, I want to check how much active days user has per month. Assuming we only have data for October and November (and very little for December, I will ignore it here), I will count those separately: active days in October and active days in November."
   ]
  },
  {
   "cell_type": "code",
   "execution_count": 956,
   "metadata": {},
   "outputs": [
    {
     "name": "stdout",
     "output_type": "stream",
     "text": [
      "+----------+------------------+\n",
      "|churn_user|        avg(count)|\n",
      "+----------+------------------+\n",
      "|         1|10.076086956521738|\n",
      "|         0| 6.586776859504132|\n",
      "+----------+------------------+\n",
      "\n"
     ]
    }
   ],
   "source": [
    "sparkify_data.filter(sparkify_data.month == 10).select([\"userId\", \"month\", \"day\", \"churn_user\"]) \\\n",
    "    .groupby([\"churn_user\", \"userId\", \"day\"]).count().groupby([\"churn_user\", \"userId\"]).count(). \\\n",
    "    groupby(\"churn_user\").avg(\"count\").show()"
   ]
  },
  {
   "cell_type": "code",
   "execution_count": 957,
   "metadata": {},
   "outputs": [
    {
     "name": "stdout",
     "output_type": "stream",
     "text": [
      "+----------+-----------------+\n",
      "|churn_user|       avg(count)|\n",
      "+----------+-----------------+\n",
      "|         1|9.193548387096774|\n",
      "|         0|            6.608|\n",
      "+----------+-----------------+\n",
      "\n"
     ]
    }
   ],
   "source": [
    "sparkify_data.filter(sparkify_data.month == 11).select([\"userId\", \"month\", \"day\", \"churn_user\"]) \\\n",
    "    .groupby([\"churn_user\", \"userId\", \"day\"]).count().groupby([\"churn_user\", \"userId\"]).count(). \\\n",
    "    groupby(\"churn_user\").avg(\"count\").show()"
   ]
  },
  {
   "cell_type": "markdown",
   "metadata": {},
   "source": [
    "This looks like something we can use.\n",
    "\n",
    "Last thing I want to investigate is device user runs the application from. I'll start with extracting data from \"userAgent\" columns."
   ]
  },
  {
   "cell_type": "code",
   "execution_count": 958,
   "metadata": {},
   "outputs": [],
   "source": [
    "sparkify_data = sparkify_data.withColumn(\"device\", regexp_extract(sparkify_data.userAgent, r\"\\((.+?);\", 1))"
   ]
  },
  {
   "cell_type": "code",
   "execution_count": 959,
   "metadata": {},
   "outputs": [
    {
     "name": "stdout",
     "output_type": "stream",
     "text": [
      "+--------------+\n",
      "|        device|\n",
      "+--------------+\n",
      "|          iPad|\n",
      "|           X11|\n",
      "|Windows NT 6.3|\n",
      "|        iPhone|\n",
      "|Windows NT 6.2|\n",
      "|     Macintosh|\n",
      "|    compatible|\n",
      "|Windows NT 6.0|\n",
      "|Windows NT 6.1|\n",
      "|              |\n",
      "+--------------+\n",
      "\n"
     ]
    }
   ],
   "source": [
    "sparkify_data.select(\"device\").dropDuplicates().show()"
   ]
  },
  {
   "cell_type": "markdown",
   "metadata": {},
   "source": [
    "Couple of these values need to be checked."
   ]
  },
  {
   "cell_type": "code",
   "execution_count": 960,
   "metadata": {},
   "outputs": [
    {
     "data": {
      "text/plain": [
       "[Row(userAgent='\"Mozilla/5.0 (Windows NT 5.1) AppleWebKit/537.36 (KHTML, like Gecko) Chrome/36.0.1985.143 Safari/537.36\"'),\n",
       " Row(userAgent='\"Mozilla/5.0 (Windows NT 5.1) AppleWebKit/537.36 (KHTML, like Gecko) Chrome/36.0.1985.125 Safari/537.36\"'),\n",
       " Row(userAgent='\"Mozilla/5.0 (Windows NT 6.1) AppleWebKit/537.36 (KHTML, like Gecko) Chrome/36.0.1985.125 Safari/537.36\"'),\n",
       " Row(userAgent='\"Mozilla/5.0 (Windows NT 6.1) AppleWebKit/537.36 (KHTML, like Gecko) Chrome/36.0.1985.143 Safari/537.36\"')]"
      ]
     },
     "execution_count": 960,
     "metadata": {},
     "output_type": "execute_result"
    }
   ],
   "source": [
    "sparkify_data.filter(sparkify_data.device == '').select(\"userAgent\").dropDuplicates().collect()"
   ]
  },
  {
   "cell_type": "code",
   "execution_count": 961,
   "metadata": {},
   "outputs": [
    {
     "data": {
      "text/plain": [
       "[Row(userAgent='Mozilla/5.0 (X11; Ubuntu; Linux i686; rv:31.0) Gecko/20100101 Firefox/31.0'),\n",
       " Row(userAgent='Mozilla/5.0 (X11; Linux x86_64; rv:31.0) Gecko/20100101 Firefox/31.0'),\n",
       " Row(userAgent='\"Mozilla/5.0 (X11; Linux x86_64) AppleWebKit/537.36 (KHTML, like Gecko) Chrome/36.0.1985.143 Safari/537.36\"'),\n",
       " Row(userAgent='Mozilla/5.0 (X11; Ubuntu; Linux x86_64; rv:31.0) Gecko/20100101 Firefox/31.0'),\n",
       " Row(userAgent='\"Mozilla/5.0 (X11; Linux x86_64) AppleWebKit/537.36 (KHTML, like Gecko) Chrome/36.0.1985.125 Safari/537.36\"')]"
      ]
     },
     "execution_count": 961,
     "metadata": {},
     "output_type": "execute_result"
    }
   ],
   "source": [
    "sparkify_data.filter(sparkify_data.device == 'X11').select(\"userAgent\").dropDuplicates().collect()"
   ]
  },
  {
   "cell_type": "code",
   "execution_count": 962,
   "metadata": {},
   "outputs": [
    {
     "data": {
      "text/plain": [
       "[Row(userAgent='Mozilla/5.0 (compatible; MSIE 9.0; Windows NT 6.1; WOW64; Trident/5.0)'),\n",
       " Row(userAgent='Mozilla/5.0 (compatible; MSIE 9.0; Windows NT 6.1; Trident/5.0)'),\n",
       " Row(userAgent='Mozilla/5.0 (compatible; MSIE 10.0; Windows NT 6.1; WOW64; Trident/6.0)')]"
      ]
     },
     "execution_count": 962,
     "metadata": {},
     "output_type": "execute_result"
    }
   ],
   "source": [
    "sparkify_data.filter(sparkify_data.device == 'compatible').select(\"userAgent\").dropDuplicates().collect()"
   ]
  },
  {
   "cell_type": "markdown",
   "metadata": {},
   "source": [
    "Alright, empty value always comes from Windows PC, as well as 'compatible'. 'X11' is Linux PC."
   ]
  },
  {
   "cell_type": "code",
   "execution_count": 963,
   "metadata": {},
   "outputs": [],
   "source": [
    "sparkify_data = sparkify_data.withColumn(\"device_new\", when(col(\"device\") \\\n",
    "        .isin([\"Windows NT 6.3\", \"Windows NT 6.2\", \"Windows NT 6.0, Windows NT 6.1\", \"compatible\", \"\"]), \"Windows PC\") \\\n",
    "        .when(sparkify_data.device == \"X11\", \"Linux PC\").when(sparkify_data.device == \"Macintosh\", \"Mac PC\") \\\n",
    "        .when(col(\"device\").isin([\"iPad\", \"iPhone\"]), \"iOS device\"))"
   ]
  },
  {
   "cell_type": "code",
   "execution_count": 964,
   "metadata": {},
   "outputs": [
    {
     "data": {
      "text/plain": [
       "Row(artist='Sleeping With Sirens', auth='Logged In', firstName='Darianna', gender='F', itemInSession=0, lastName='Carpenter', length=202.97098, level='free', location='Bridgeport-Stamford-Norwalk, CT', method='PUT', page='NextSong', registration=1538016340000, sessionId=31, song='Captain Tyin Knots VS Mr Walkway (No Way)', status=200, ts=1539003534000, userAgent='\"Mozilla/5.0 (iPhone; CPU iPhone OS 7_1_2 like Mac OS X) AppleWebKit/537.51.2 (KHTML, like Gecko) Version/7.0 Mobile/11D257 Safari/9537.53\"', userId='100010', churn=0, churn_user=0, month='10', day='8', device='iPhone', device_new='iOS device')"
      ]
     },
     "execution_count": 964,
     "metadata": {},
     "output_type": "execute_result"
    }
   ],
   "source": [
    "sparkify_data.head()"
   ]
  },
  {
   "cell_type": "code",
   "execution_count": null,
   "metadata": {},
   "outputs": [],
   "source": []
  },
  {
   "cell_type": "code",
   "execution_count": 965,
   "metadata": {},
   "outputs": [],
   "source": [
    "devices_df = sparkify_data.select([\"userId\", \"churn_user\", \"device_new\"]).dropDuplicates().sort(\"userId\").toPandas()"
   ]
  },
  {
   "cell_type": "code",
   "execution_count": 966,
   "metadata": {},
   "outputs": [
    {
     "data": {
      "text/html": [
       "<div>\n",
       "<style scoped>\n",
       "    .dataframe tbody tr th:only-of-type {\n",
       "        vertical-align: middle;\n",
       "    }\n",
       "\n",
       "    .dataframe tbody tr th {\n",
       "        vertical-align: top;\n",
       "    }\n",
       "\n",
       "    .dataframe thead th {\n",
       "        text-align: right;\n",
       "    }\n",
       "</style>\n",
       "<table border=\"1\" class=\"dataframe\">\n",
       "  <thead>\n",
       "    <tr style=\"text-align: right;\">\n",
       "      <th></th>\n",
       "      <th>userId</th>\n",
       "      <th>churn_user</th>\n",
       "      <th>device_new</th>\n",
       "    </tr>\n",
       "  </thead>\n",
       "  <tbody>\n",
       "    <tr>\n",
       "      <th>0</th>\n",
       "      <td>10</td>\n",
       "      <td>0</td>\n",
       "      <td>Mac PC</td>\n",
       "    </tr>\n",
       "    <tr>\n",
       "      <th>1</th>\n",
       "      <td>100</td>\n",
       "      <td>1</td>\n",
       "      <td>None</td>\n",
       "    </tr>\n",
       "    <tr>\n",
       "      <th>2</th>\n",
       "      <td>100001</td>\n",
       "      <td>1</td>\n",
       "      <td>Mac PC</td>\n",
       "    </tr>\n",
       "    <tr>\n",
       "      <th>3</th>\n",
       "      <td>100002</td>\n",
       "      <td>0</td>\n",
       "      <td>None</td>\n",
       "    </tr>\n",
       "    <tr>\n",
       "      <th>4</th>\n",
       "      <td>100003</td>\n",
       "      <td>1</td>\n",
       "      <td>None</td>\n",
       "    </tr>\n",
       "  </tbody>\n",
       "</table>\n",
       "</div>"
      ],
      "text/plain": [
       "   userId  churn_user device_new\n",
       "0      10           0     Mac PC\n",
       "1     100           1       None\n",
       "2  100001           1     Mac PC\n",
       "3  100002           0       None\n",
       "4  100003           1       None"
      ]
     },
     "execution_count": 966,
     "metadata": {},
     "output_type": "execute_result"
    }
   ],
   "source": [
    "devices_df.head()"
   ]
  },
  {
   "cell_type": "code",
   "execution_count": 1007,
   "metadata": {},
   "outputs": [
    {
     "data": {
      "text/plain": [
       "<matplotlib.axes._subplots.AxesSubplot at 0x7ff8a6a6fac8>"
      ]
     },
     "execution_count": 1007,
     "metadata": {},
     "output_type": "execute_result"
    },
    {
     "data": {
      "image/png": "[encoded data removed]",
      "text/plain": [
       "<matplotlib.figure.Figure at 0x7ff8a694eac8>"
      ]
     },
     "metadata": {
      "needs_background": "light"
     },
     "output_type": "display_data"
    }
   ],
   "source": [
    "pylab.figure(figsize=(12, 5))\n",
    "ax1 = plt.subplot(1, 2, 1)\n",
    "plt.title('Churn')\n",
    "devices_df['device_new'][devices_df['churn_user'] == 1].value_counts().plot(kind='bar')\n",
    "ax1 = plt.subplot(1, 2, 2)\n",
    "plt.title('Non churn')\n",
    "devices_df['device_new'][devices_df['churn_user'] == 0].value_counts().plot(kind='bar')"
   ]
  },
  {
   "cell_type": "markdown",
   "metadata": {},
   "source": [
    "Does not looks like distributions are significantly different for two groups of users.\n",
    "\n",
    "Overall I believe the needed features have been found and I can move to feature extraction now."
   ]
  },
  {
   "cell_type": "markdown",
   "metadata": {},
   "source": [
    "# Feature Engineering\n"
   ]
  },
  {
   "cell_type": "markdown",
   "metadata": {},
   "source": [
    "To sum up the preceeding analysis, here is the list of features I am going to stick to:\n",
    "\n",
    "- Gender\n",
    "- Total counts for 12 types of pages (stored in pages list)\n",
    "- Total length of listened songs\n",
    "- Average session length\n",
    "- Maximum session length\n",
    "- Average actions performed daily\n",
    "- Average songs listened daily\n",
    "- Average adds to playlist daily\n",
    "- Active days in October\n",
    "- Active days in November\n",
    "\n",
    "I will start with creating new dataframe by extracting most straightforward features: userId itself, gender and target variable - churn_user."
   ]
  },
  {
   "cell_type": "code",
   "execution_count": 968,
   "metadata": {},
   "outputs": [],
   "source": [
    "sparkify_df = sparkify_data.select([\"userId\", \"gender\", \"churn_user\"]).dropDuplicates()"
   ]
  },
  {
   "cell_type": "markdown",
   "metadata": {},
   "source": [
    "In order to get counts for all the page types I am interested in, I will count the needed aggregate in a small dataframe and then join it to newly created one."
   ]
  },
  {
   "cell_type": "code",
   "execution_count": 969,
   "metadata": {},
   "outputs": [],
   "source": [
    "for page in pages:\n",
    "    tmp = sparkify_data.filter(sparkify_data.page == page).groupby(\"userId\").agg(count(\"page\").alias(page.lower()))\n",
    "    sparkify_df = sparkify_df.join(tmp, on = \"userId\", how='left')"
   ]
  },
  {
   "cell_type": "code",
   "execution_count": 970,
   "metadata": {},
   "outputs": [],
   "source": [
    "sparkify_df = sparkify_df.withColumnRenamed(\"add Friend\", \"add_friend\")\n",
    "sparkify_df = sparkify_df.withColumnRenamed(\"add to playlist\", \"add_to_playlist\")\n",
    "sparkify_df = sparkify_df.withColumnRenamed(\"roll advert\", \"roll_advert\")\n",
    "sparkify_df = sparkify_df.withColumnRenamed(\"save settings\", \"save_settings\")\n",
    "sparkify_df = sparkify_df.withColumnRenamed(\"submit upgrade\", \"submit_upgrade\")\n",
    "sparkify_df = sparkify_df.withColumnRenamed(\"thumbs down\", \"thumbs_down\")\n",
    "sparkify_df = sparkify_df.withColumnRenamed(\"thumbs up\", \"thumbs_up\")\n",
    "sparkify_df = sparkify_df.withColumnRenamed(\"nextsong\", \"next_song\")"
   ]
  },
  {
   "cell_type": "markdown",
   "metadata": {},
   "source": [
    "Next one are total length of songs listened and session length. Generally I am going to use same approach for all the features extraction."
   ]
  },
  {
   "cell_type": "code",
   "execution_count": 971,
   "metadata": {},
   "outputs": [],
   "source": [
    "tmp = sparkify_data.select([\"userId\", \"length\"]).groupby(\"userId\").sum(\"length\")\n",
    "sparkify_df = sparkify_df.join(tmp, on = \"userId\", how='left')\n",
    "sparkify_df = sparkify_df.withColumnRenamed(\"sum(length)\", \"total_songs_length\")"
   ]
  },
  {
   "cell_type": "code",
   "execution_count": 972,
   "metadata": {},
   "outputs": [],
   "source": [
    "tmp = sparkify_data.select([\"userId\", \"sessionId\"]).groupby([\"userId\", \"sessionId\"]).count() \\\n",
    "    .groupby([\"userId\"]).agg(avg(\"count\"), smax(\"count\"))\n",
    "sparkify_df = sparkify_df.join(tmp, on = \"userId\", how='left')\n",
    "sparkify_df = sparkify_df.withColumnRenamed(\"avg(count)\", \"avg_session_length\")\n",
    "sparkify_df = sparkify_df.withColumnRenamed(\"max(count)\", \"max_session_length\")"
   ]
  },
  {
   "cell_type": "code",
   "execution_count": 973,
   "metadata": {},
   "outputs": [
    {
     "data": {
      "text/plain": [
       "Row(userId='100010', gender='F', churn_user=0, add_friend=4, add_to_playlist=7, error=None, help=2, home=11, next_song=275, roll_advert=52, save_settings=None, settings=None, submit_upgrade=None, thumbs_down=5, thumbs_up=17, total_songs_length=66940.89735000003, avg_session_length=54.42857142857143, max_session_length=112)"
      ]
     },
     "execution_count": 973,
     "metadata": {},
     "output_type": "execute_result"
    }
   ],
   "source": [
    "sparkify_df.head()"
   ]
  },
  {
   "cell_type": "markdown",
   "metadata": {},
   "source": [
    "Moving to date-related data. Here we will need to perform grouping based on day and month."
   ]
  },
  {
   "cell_type": "code",
   "execution_count": 974,
   "metadata": {},
   "outputs": [],
   "source": [
    "tmp = sparkify_data.select([\"userId\", \"month\", \"day\"]).groupby([\"userId\", \"month\", \"day\"]) \\\n",
    "    .count().groupby(\"userId\").avg(\"count\")\n",
    "sparkify_df = sparkify_df.join(tmp, on = \"userId\", how='left')\n",
    "sparkify_df = sparkify_df.withColumnRenamed(\"avg(count)\", \"avg_actions_daily\")"
   ]
  },
  {
   "cell_type": "code",
   "execution_count": 975,
   "metadata": {},
   "outputs": [],
   "source": [
    "tmp = sparkify_data.filter(sparkify_data.page == \"NextSong\").select([\"userId\", \"month\", \"day\"]) \\\n",
    "    .groupby([\"userId\", \"month\", \"day\"]) \\\n",
    "    .count().groupby(\"userId\").avg(\"count\")\n",
    "sparkify_df = sparkify_df.join(tmp, on = \"userId\", how='left')\n",
    "sparkify_df = sparkify_df.withColumnRenamed(\"avg(count)\", \"avg_songs_daily\")"
   ]
  },
  {
   "cell_type": "code",
   "execution_count": 976,
   "metadata": {},
   "outputs": [],
   "source": [
    "tmp = sparkify_data.filter(sparkify_data.page == \"Add to Playlist\").select([\"userId\", \"month\", \"day\"]) \\\n",
    "    .groupby([\"userId\", \"month\", \"day\"]) \\\n",
    "    .count().groupby(\"userId\").avg(\"count\")\n",
    "sparkify_df = sparkify_df.join(tmp, on = \"userId\", how='left')\n",
    "sparkify_df = sparkify_df.withColumnRenamed(\"avg(count)\", \"avg_adds_daily\")"
   ]
  },
  {
   "cell_type": "code",
   "execution_count": 977,
   "metadata": {},
   "outputs": [
    {
     "data": {
      "text/plain": [
       "Row(userId='100010', gender='F', churn_user=0, add_friend=4, add_to_playlist=7, error=None, help=2, home=11, next_song=275, roll_advert=52, save_settings=None, settings=None, submit_upgrade=None, thumbs_down=5, thumbs_up=17, total_songs_length=66940.89735000003, avg_session_length=54.42857142857143, max_session_length=112, avg_actions_daily=54.42857142857143, avg_songs_daily=39.285714285714285, avg_adds_daily=1.4)"
      ]
     },
     "execution_count": 977,
     "metadata": {},
     "output_type": "execute_result"
    }
   ],
   "source": [
    "sparkify_df.head()"
   ]
  },
  {
   "cell_type": "markdown",
   "metadata": {},
   "source": [
    "And the last, active days per month"
   ]
  },
  {
   "cell_type": "code",
   "execution_count": 978,
   "metadata": {},
   "outputs": [],
   "source": [
    "tmp = sparkify_data.filter(sparkify_data.month == 10).select([\"userId\", \"month\", \"day\"]) \\\n",
    "    .groupby([\"userId\", \"day\"]).count().groupby([\"userId\"]).count()\n",
    "sparkify_df = sparkify_df.join(tmp, on = \"userId\", how='left')\n",
    "sparkify_df = sparkify_df.withColumnRenamed(\"count\", \"active_days_october\")"
   ]
  },
  {
   "cell_type": "code",
   "execution_count": 979,
   "metadata": {},
   "outputs": [],
   "source": [
    "tmp = sparkify_data.filter(sparkify_data.month == 11).select([\"userId\", \"month\", \"day\"]) \\\n",
    "    .groupby([\"userId\", \"day\"]).count().groupby([\"userId\"]).count()\n",
    "sparkify_df = sparkify_df.join(tmp, on = \"userId\", how='left')\n",
    "sparkify_df = sparkify_df.withColumnRenamed(\"count\", \"active_days_november\")"
   ]
  },
  {
   "cell_type": "markdown",
   "metadata": {},
   "source": [
    "Certain values may now be empty (None) if, for example, user never has peformed certain type of action. We need to replace those with 0."
   ]
  },
  {
   "cell_type": "code",
   "execution_count": 980,
   "metadata": {
    "scrolled": true
   },
   "outputs": [],
   "source": [
    "sparkify_df = sparkify_df.fillna(0)"
   ]
  },
  {
   "cell_type": "code",
   "execution_count": 981,
   "metadata": {},
   "outputs": [
    {
     "data": {
      "text/plain": [
       "Row(userId='100010', gender='F', churn_user=0, add_friend=4, add_to_playlist=7, error=0, help=2, home=11, next_song=275, roll_advert=52, save_settings=0, settings=0, submit_upgrade=0, thumbs_down=5, thumbs_up=17, total_songs_length=66940.89735000003, avg_session_length=54.42857142857143, max_session_length=112, avg_actions_daily=54.42857142857143, avg_songs_daily=39.285714285714285, avg_adds_daily=1.4, active_days_october=4, active_days_november=3)"
      ]
     },
     "execution_count": 981,
     "metadata": {},
     "output_type": "execute_result"
    }
   ],
   "source": [
    "sparkify_df.head()"
   ]
  },
  {
   "cell_type": "markdown",
   "metadata": {},
   "source": [
    "And the dataset with total of 21 features is ready for model building!"
   ]
  },
  {
   "cell_type": "markdown",
   "metadata": {},
   "source": [
    "In fact not yet. First we need to prepare dataset for modeling. Each row will have column 'features' containing all existing features grouped into vector and column 'label' - this one we already have as 'churn_user'.\n",
    "\n",
    "There is one feature which needs to be additionally prepared - gender. This needs to be converted to a number."
   ]
  },
  {
   "cell_type": "code",
   "execution_count": 982,
   "metadata": {},
   "outputs": [],
   "source": [
    "label_indexer = StringIndexer().setInputCol(\"gender\").setOutputCol(\"gender_int\")\n",
    "label_indexer_model = label_indexer.fit(sparkify_df)\n",
    "sparkify_df = label_indexer_model.transform(sparkify_df)"
   ]
  },
  {
   "cell_type": "code",
   "execution_count": 983,
   "metadata": {
    "scrolled": true
   },
   "outputs": [],
   "source": [
    "assembler = VectorAssembler().setInputCols([\"gender_int\", \"add_friend\", \"add_to_playlist\", \"error\", \"help\", \"home\", \\\n",
    "            \"next_song\", \"roll_advert\", \"save_settings\", \"settings\", \"submit_upgrade\", \"thumbs_down\", \"thumbs_up\", \\\n",
    "            \"total_songs_length\", \"avg_session_length\", \"max_session_length\", \"avg_actions_daily\", \"avg_songs_daily\", \\\n",
    "            \"avg_adds_daily\", \"active_days_october\", \"active_days_november\"]).setOutputCol(\"features\")\n",
    "sparkify_df = assembler.transform(sparkify_df)"
   ]
  },
  {
   "cell_type": "markdown",
   "metadata": {},
   "source": [
    "Next - bringing all numeric features to same scale (for logistic regression). I will use StandardScaler - it brings data to the distribution having mean 0 and deviance 1."
   ]
  },
  {
   "cell_type": "code",
   "execution_count": 984,
   "metadata": {},
   "outputs": [],
   "source": [
    "scaler = StandardScaler().setInputCol(\"features\").setOutputCol(\"scaled_features\")\n",
    "scaler_model = scaler.fit(sparkify_df)\n",
    "sparkify_df = scaler_model.transform(sparkify_df)"
   ]
  },
  {
   "cell_type": "code",
   "execution_count": 985,
   "metadata": {},
   "outputs": [],
   "source": [
    "sparkify_df = sparkify_df.withColumnRenamed(\"churn_user\", \"label\")"
   ]
  },
  {
   "cell_type": "code",
   "execution_count": 986,
   "metadata": {},
   "outputs": [],
   "source": [
    "sparkify_df = sparkify_df.withColumn(\"label\", sparkify_df[\"label\"].cast(FloatType()))"
   ]
  },
  {
   "cell_type": "code",
   "execution_count": 987,
   "metadata": {},
   "outputs": [
    {
     "data": {
      "text/plain": [
       "Row(userId='100010', gender='F', label=0.0, add_friend=4, add_to_playlist=7, error=0, help=2, home=11, next_song=275, roll_advert=52, save_settings=0, settings=0, submit_upgrade=0, thumbs_down=5, thumbs_up=17, total_songs_length=66940.89735000003, avg_session_length=54.42857142857143, max_session_length=112, avg_actions_daily=54.42857142857143, avg_songs_daily=39.285714285714285, avg_adds_daily=1.4, active_days_october=4, active_days_november=3, gender_int=1.0, features=DenseVector([1.0, 4.0, 7.0, 0.0, 2.0, 11.0, 275.0, 52.0, 0.0, 0.0, 0.0, 5.0, 17.0, 66940.8974, 54.4286, 112.0, 54.4286, 39.2857, 1.4, 4.0, 3.0]), scaled_features=DenseVector([2.0013, 0.1943, 0.214, 0.0, 0.2761, 0.2326, 0.2489, 2.413, 0.0, 0.0, 0.0, 0.3823, 0.2596, 0.2431, 1.1092, 0.5558, 1.4756, 1.2249, 1.09, 0.6639, 0.4996]))"
      ]
     },
     "execution_count": 987,
     "metadata": {},
     "output_type": "execute_result"
    }
   ],
   "source": [
    "sparkify_df.head()"
   ]
  },
  {
   "cell_type": "code",
   "execution_count": 988,
   "metadata": {},
   "outputs": [
    {
     "data": {
      "text/plain": [
       "225"
      ]
     },
     "execution_count": 988,
     "metadata": {},
     "output_type": "execute_result"
    }
   ],
   "source": [
    "sparkify_df.count()"
   ]
  },
  {
   "cell_type": "code",
   "execution_count": 31,
   "metadata": {},
   "outputs": [],
   "source": [
    "sparkify_df = spark.read.parquet('sparkify_df.parquet')"
   ]
  },
  {
   "cell_type": "markdown",
   "metadata": {},
   "source": [
    "And now we are truly ready."
   ]
  },
  {
   "cell_type": "markdown",
   "metadata": {},
   "source": [
    "# Modeling\n"
   ]
  },
  {
   "cell_type": "markdown",
   "metadata": {},
   "source": [
    "I am going to try 3 different algorythms: Logistic Regression, Random Forest and Gradient Boosting.\n",
    "\n",
    "Let me start with defining function which will calculate several metrics. Assuming somewhat class disbalance, best metric to base on seems to be F1 score. Still, I will also calculate accuracy as disbalance is not so serious."
   ]
  },
  {
   "cell_type": "code",
   "execution_count": 32,
   "metadata": {},
   "outputs": [],
   "source": [
    "def print_metrics(results):\n",
    "    tp = results.filter(results.label == 1.0).filter(results.prediction == 1.0).count()\n",
    "    fp = results.filter(results.label == 0.0).filter(results.prediction == 1.0).count()\n",
    "    fn = results.filter(results.label == 1.0).filter(results.prediction == 0.0).count()\n",
    "    precision = tp/(tp+fp)\n",
    "    recall = tp/(tp+fn)\n",
    "    f1 = 2*precision*recall/(precision+recall)\n",
    "    acc = results.filter(results.label == results.prediction).count()/results.count()\n",
    "    print(\"Precision: {0}, Recall: {1}, F1-score: {2}, Accuracy: {3}\".format(precision, recall, f1, acc))"
   ]
  },
  {
   "cell_type": "markdown",
   "metadata": {},
   "source": [
    "Starting with splitting data into 3 parts: train, test and validation. While test part is going to be basis for determining best model, validation will be the one showing final performance of the best selected one."
   ]
  },
  {
   "cell_type": "code",
   "execution_count": 37,
   "metadata": {},
   "outputs": [
    {
     "name": "stdout",
     "output_type": "stream",
     "text": [
      "16\n",
      "27\n"
     ]
    }
   ],
   "source": [
    "train, test, validation = sparkify_df.randomSplit([0.6, 0.2, 0.2], seed=10)\n",
    "print(test.filter(test.label == 1.0).count())\n",
    "print(test.filter(test.label == 0.0).count())"
   ]
  },
  {
   "cell_type": "markdown",
   "metadata": {},
   "source": [
    "Here is the first model - Logistic Regression. I will use grid search together with cross validation for parameter tuning."
   ]
  },
  {
   "cell_type": "code",
   "execution_count": 33,
   "metadata": {},
   "outputs": [],
   "source": [
    "lr = LogisticRegression(featuresCol=\"scaled_features\", labelCol=\"label\", maxIter=10, regParam=0.0, elasticNetParam=0.8)"
   ]
  },
  {
   "cell_type": "code",
   "execution_count": 54,
   "metadata": {},
   "outputs": [],
   "source": [
    "paramGrid = ParamGridBuilder() \\\n",
    "    .addGrid(lr.maxIter, [100, 50, 10]) \\\n",
    "    .addGrid(lr.regParam,[0.0, 0.1, 0.2]) \\\n",
    "    .addGrid(lr.elasticNetParam,[0.8, 0.9]) \\\n",
    "    .build()\n",
    "\n",
    "\n",
    "crossval = CrossValidator(estimator=lr,\n",
    "                          estimatorParamMaps=paramGrid,\n",
    "                          evaluator=BinaryClassificationEvaluator(),\n",
    "                          numFolds=3)"
   ]
  },
  {
   "cell_type": "code",
   "execution_count": 55,
   "metadata": {},
   "outputs": [],
   "source": [
    "cv_model = crossval.fit(train)"
   ]
  },
  {
   "cell_type": "code",
   "execution_count": 56,
   "metadata": {},
   "outputs": [
    {
     "name": "stdout",
     "output_type": "stream",
     "text": [
      "Precision: 0.7142857142857143, Recall: 0.625, F1-score: 0.6666666666666666, Accuracy: 0.7674418604651163\n"
     ]
    }
   ],
   "source": [
    "results = cv_model.transform(test)\n",
    "print_metrics(results)"
   ]
  },
  {
   "cell_type": "code",
   "execution_count": 57,
   "metadata": {},
   "outputs": [
    {
     "data": {
      "text/plain": [
       "{Param(parent='LogisticRegression_c847b26e4be1', name='aggregationDepth', doc='suggested depth for treeAggregate (>= 2)'): 2,\n",
       " Param(parent='LogisticRegression_c847b26e4be1', name='elasticNetParam', doc='the ElasticNet mixing parameter, in range [0, 1]. For alpha = 0, the penalty is an L2 penalty. For alpha = 1, it is an L1 penalty'): 0.8,\n",
       " Param(parent='LogisticRegression_c847b26e4be1', name='family', doc='The name of family which is a description of the label distribution to be used in the model. Supported options: auto, binomial, multinomial.'): 'auto',\n",
       " Param(parent='LogisticRegression_c847b26e4be1', name='featuresCol', doc='features column name'): 'scaled_features',\n",
       " Param(parent='LogisticRegression_c847b26e4be1', name='fitIntercept', doc='whether to fit an intercept term'): True,\n",
       " Param(parent='LogisticRegression_c847b26e4be1', name='labelCol', doc='label column name'): 'label',\n",
       " Param(parent='LogisticRegression_c847b26e4be1', name='maxIter', doc='maximum number of iterations (>= 0)'): 10,\n",
       " Param(parent='LogisticRegression_c847b26e4be1', name='predictionCol', doc='prediction column name'): 'prediction',\n",
       " Param(parent='LogisticRegression_c847b26e4be1', name='probabilityCol', doc='Column name for predicted class conditional probabilities. Note: Not all models output well-calibrated probability estimates! These probabilities should be treated as confidences, not precise probabilities'): 'probability',\n",
       " Param(parent='LogisticRegression_c847b26e4be1', name='rawPredictionCol', doc='raw prediction (a.k.a. confidence) column name'): 'rawPrediction',\n",
       " Param(parent='LogisticRegression_c847b26e4be1', name='regParam', doc='regularization parameter (>= 0)'): 0.0,\n",
       " Param(parent='LogisticRegression_c847b26e4be1', name='standardization', doc='whether to standardize the training features before fitting the model'): True,\n",
       " Param(parent='LogisticRegression_c847b26e4be1', name='threshold', doc='threshold in binary classification prediction, in range [0, 1]'): 0.5,\n",
       " Param(parent='LogisticRegression_c847b26e4be1', name='tol', doc='the convergence tolerance for iterative algorithms (>= 0)'): 1e-06}"
      ]
     },
     "execution_count": 57,
     "metadata": {},
     "output_type": "execute_result"
    }
   ],
   "source": [
    "cv_model.bestModel.extractParamMap()"
   ]
  },
  {
   "cell_type": "markdown",
   "metadata": {},
   "source": [
    "Regularizaion is not used in the best model. That’s explainable: dataset is fairly small.\n",
    "Overall we get F1 score 0.67. Not too good.\n",
    "\n",
    "Moving to Random Forest."
   ]
  },
  {
   "cell_type": "code",
   "execution_count": 60,
   "metadata": {},
   "outputs": [],
   "source": [
    "rf = RandomForestClassifier(featuresCol=\"features\", labelCol=\"label\", numTrees=10, maxDepth=7)\n",
    "paramGrid = ParamGridBuilder() \\\n",
    "    .addGrid(rf.numTrees, [50, 100]) \\\n",
    "    .addGrid(rf.maxDepth,[5, 7]) \\\n",
    "    .build()\n",
    "\n",
    "\n",
    "crossval = CrossValidator(estimator=rf,\n",
    "                          estimatorParamMaps=paramGrid,\n",
    "                          evaluator=BinaryClassificationEvaluator(),\n",
    "                          numFolds=3)"
   ]
  },
  {
   "cell_type": "code",
   "execution_count": 61,
   "metadata": {},
   "outputs": [],
   "source": [
    "cv_model = crossval.fit(train)"
   ]
  },
  {
   "cell_type": "code",
   "execution_count": 62,
   "metadata": {},
   "outputs": [
    {
     "name": "stdout",
     "output_type": "stream",
     "text": [
      "Precision: 0.9166666666666666, Recall: 0.6875, F1-score: 0.7857142857142857, Accuracy: 0.8604651162790697\n"
     ]
    }
   ],
   "source": [
    "results = cv_model.transform(test)\n",
    "print_metrics(results)"
   ]
  },
  {
   "cell_type": "code",
   "execution_count": 63,
   "metadata": {},
   "outputs": [
    {
     "data": {
      "text/plain": [
       "{Param(parent='RandomForestClassifier_a5f4a66ae6e6', name='cacheNodeIds', doc='If false, the algorithm will pass trees to executors to match instances with nodes. If true, the algorithm will cache node IDs for each instance. Caching can speed up training of deeper trees.'): False,\n",
       " Param(parent='RandomForestClassifier_a5f4a66ae6e6', name='checkpointInterval', doc='set checkpoint interval (>= 1) or disable checkpoint (-1). E.g. 10 means that the cache will get checkpointed every 10 iterations. Note: this setting will be ignored if the checkpoint directory is not set in the SparkContext'): 10,\n",
       " Param(parent='RandomForestClassifier_a5f4a66ae6e6', name='featureSubsetStrategy', doc='The number of features to consider for splits at each tree node. Supported options: auto, all, onethird, sqrt, log2, (0.0-1.0], [1-n].'): 'auto',\n",
       " Param(parent='RandomForestClassifier_a5f4a66ae6e6', name='featuresCol', doc='features column name'): 'features',\n",
       " Param(parent='RandomForestClassifier_a5f4a66ae6e6', name='impurity', doc='Criterion used for information gain calculation (case-insensitive). Supported options: entropy, gini'): 'gini',\n",
       " Param(parent='RandomForestClassifier_a5f4a66ae6e6', name='labelCol', doc='label column name'): 'label',\n",
       " Param(parent='RandomForestClassifier_a5f4a66ae6e6', name='maxBins', doc='Max number of bins for discretizing continuous features.  Must be >=2 and >= number of categories for any categorical feature.'): 32,\n",
       " Param(parent='RandomForestClassifier_a5f4a66ae6e6', name='maxDepth', doc='Maximum depth of the tree. (>= 0) E.g., depth 0 means 1 leaf node; depth 1 means 1 internal node + 2 leaf nodes.'): 5,\n",
       " Param(parent='RandomForestClassifier_a5f4a66ae6e6', name='maxMemoryInMB', doc='Maximum memory in MB allocated to histogram aggregation.'): 256,\n",
       " Param(parent='RandomForestClassifier_a5f4a66ae6e6', name='minInfoGain', doc='Minimum information gain for a split to be considered at a tree node.'): 0.0,\n",
       " Param(parent='RandomForestClassifier_a5f4a66ae6e6', name='minInstancesPerNode', doc='Minimum number of instances each child must have after split.  If a split causes the left or right child to have fewer than minInstancesPerNode, the split will be discarded as invalid. Should be >= 1.'): 1,\n",
       " Param(parent='RandomForestClassifier_a5f4a66ae6e6', name='numTrees', doc='Number of trees to train (>= 1)'): 100,\n",
       " Param(parent='RandomForestClassifier_a5f4a66ae6e6', name='predictionCol', doc='prediction column name'): 'prediction',\n",
       " Param(parent='RandomForestClassifier_a5f4a66ae6e6', name='probabilityCol', doc='Column name for predicted class conditional probabilities. Note: Not all models output well-calibrated probability estimates! These probabilities should be treated as confidences, not precise probabilities'): 'probability',\n",
       " Param(parent='RandomForestClassifier_a5f4a66ae6e6', name='rawPredictionCol', doc='raw prediction (a.k.a. confidence) column name'): 'rawPrediction',\n",
       " Param(parent='RandomForestClassifier_a5f4a66ae6e6', name='seed', doc='random seed'): 2019732877885219265,\n",
       " Param(parent='RandomForestClassifier_a5f4a66ae6e6', name='subsamplingRate', doc='Fraction of the training data used for learning each decision tree, in range (0, 1].'): 1.0}"
      ]
     },
     "execution_count": 63,
     "metadata": {},
     "output_type": "execute_result"
    }
   ],
   "source": [
    "cv_model.bestModel.extractParamMap()"
   ]
  },
  {
   "cell_type": "markdown",
   "metadata": {},
   "source": [
    "Much better here, F1 scrore is 0.79. Final model has 100 trees with depth 5. Recall is also higher, minding the nature of our problem, we should note recall is especially important here: it shows how good we are able to find potentially churn users."
   ]
  },
  {
   "cell_type": "markdown",
   "metadata": {},
   "source": [
    "Training of gradient boosting takes longer time, so here I will tune parameters manually rather than using drid search."
   ]
  },
  {
   "cell_type": "code",
   "execution_count": 64,
   "metadata": {},
   "outputs": [],
   "source": [
    "classifier_gb = GBTClassifier(featuresCol=\"features\", labelCol=\"label\", maxIter=10, maxDepth=7, subsamplingRate=0.8)"
   ]
  },
  {
   "cell_type": "code",
   "execution_count": 1049,
   "metadata": {},
   "outputs": [],
   "source": [
    "model_gb = classifier_gb.fit(train)"
   ]
  },
  {
   "cell_type": "code",
   "execution_count": 1050,
   "metadata": {},
   "outputs": [
    {
     "name": "stdout",
     "output_type": "stream",
     "text": [
      "Precision: 0.5882352941176471, Recall: 0.625, F1-score: 0.6060606060606061, Accuracy: 0.6976744186046512\n"
     ]
    }
   ],
   "source": [
    "results = model_gb.transform(test)\n",
    "print_metrics(results)"
   ]
  },
  {
   "cell_type": "code",
   "execution_count": 1053,
   "metadata": {},
   "outputs": [],
   "source": [
    "classifier_gb = GBTClassifier(featuresCol=\"features\", labelCol=\"label\", maxIter=50, maxDepth=5, subsamplingRate=1.0)"
   ]
  },
  {
   "cell_type": "code",
   "execution_count": 1054,
   "metadata": {},
   "outputs": [
    {
     "name": "stdout",
     "output_type": "stream",
     "text": [
      "Precision: 0.5882352941176471, Recall: 0.625, F1-score: 0.6060606060606061, Accuracy: 0.6976744186046512\n"
     ]
    }
   ],
   "source": [
    "model_gb = classifier_gb.fit(train)\n",
    "results = model_gb.transform(test)\n",
    "print_metrics(results)"
   ]
  },
  {
   "cell_type": "markdown",
   "metadata": {},
   "source": [
    "Random Forest definitely beats it.\n",
    "Going back to slight class disbalance, let me try to introduce class weights: rows belonging to class 1 get higher weigh as the class is smaller. I will train logistic regression with the weighted dataset.\n"
   ]
  },
  {
   "cell_type": "code",
   "execution_count": 1055,
   "metadata": {},
   "outputs": [],
   "source": [
    "pos_w = sparkify_df.filter(sparkify_df.label == 1.0).count()/sparkify_df.count()\n",
    "get_weights = udf(lambda x: pos_w if x == 0 else (1-pos_w), DoubleType())\n",
    "sparkify_df_weighted = sparkify_df.withColumn(\"class_weight\", get_weights(\"label\"))"
   ]
  },
  {
   "cell_type": "code",
   "execution_count": 1056,
   "metadata": {},
   "outputs": [],
   "source": [
    "train_w, test_w, validation_w = sparkify_df_weighted.randomSplit([0.6, 0.2, 0.2], seed=10)"
   ]
  },
  {
   "cell_type": "code",
   "execution_count": 1061,
   "metadata": {},
   "outputs": [],
   "source": [
    "classifier_lr_w = LogisticRegression(featuresCol=\"scaled_features\", labelCol=\"label\", weightCol=\"class_weight\", maxIter=100, regParam=0.0, elasticNetParam=0.8)"
   ]
  },
  {
   "cell_type": "code",
   "execution_count": 1063,
   "metadata": {},
   "outputs": [],
   "source": [
    "model_lr_w = classifier_lr_w.fit(train_w)"
   ]
  },
  {
   "cell_type": "code",
   "execution_count": 1064,
   "metadata": {},
   "outputs": [
    {
     "name": "stdout",
     "output_type": "stream",
     "text": [
      "Precision: 0.5714285714285714, Recall: 0.75, F1-score: 0.6486486486486486, Accuracy: 0.6976744186046512\n"
     ]
    }
   ],
   "source": [
    "results_w = model_lr_w.transform(test_w)\n",
    "print_metrics(results_w)"
   ]
  },
  {
   "cell_type": "markdown",
   "metadata": {},
   "source": [
    "Based on performed test, the winning model is Random Forest. Final performance is evaluated on validation dataset:"
   ]
  },
  {
   "cell_type": "code",
   "execution_count": 70,
   "metadata": {},
   "outputs": [
    {
     "name": "stdout",
     "output_type": "stream",
     "text": [
      "Precision: 1.0, Recall: 0.625, F1-score: 0.7692307692307693, Accuracy: 0.7857142857142857\n"
     ]
    }
   ],
   "source": [
    "res = cv_model.transform(validation)\n",
    "print_metrics(res)"
   ]
  },
  {
   "cell_type": "markdown",
   "metadata": {},
   "source": [
    "Can I say the results are super impressive? No. There deinitely is more room for investigation and optimization, but isn't that great? Dataset only consists of a bit more than 200 rows, in real life this would be thousands, even millions of rows. Even with a small dataset however it is possibe to build an adequately performing model."
   ]
  },
  {
   "cell_type": "markdown",
   "metadata": {},
   "source": [
    "# Final Steps\n",
    "Clean up your code, adding comments and renaming variables to make the code easier to read and maintain. Refer to the Spark Project Overview page and Data Scientist Capstone Project Rubric to make sure you are including all components of the capstone project and meet all expectations. Remember, this includes thorough documentation in a README file in a Github repository, as well as a web app or blog post."
   ]
  }
 ],
 "metadata": {
  "kernelspec": {
   "display_name": "Python 3",
   "language": "python",
   "name": "python3"
  },
  "language_info": {
   "codemirror_mode": {
    "name": "ipython",
    "version": 3
   },
   "file_extension": ".py",
   "mimetype": "text/x-python",
   "name": "python",
   "nbconvert_exporter": "python",
   "pygments_lexer": "ipython3",
   "version": "3.6.3"
  }
 },
 "nbformat": 4,
 "nbformat_minor": 2
}
